{
 "cells": [
  {
   "cell_type": "code",
   "execution_count": 11,
   "id": "38f6f447-4ec6-4244-ac33-a7c6c41348b4",
   "metadata": {
    "collapsed": true,
    "jupyter": {
     "outputs_hidden": true
    },
    "scrolled": true
   },
   "outputs": [
    {
     "name": "stdout",
     "output_type": "stream",
     "text": [
      "Requirement already satisfied: polars[fastexcel,plot,xlsx2csv] in /home/moonlyss/conda/envs/3.12/lib/python3.12/site-packages (0.20.23)\n",
      "Collecting fastexcel>=0.9 (from polars[fastexcel,plot,xlsx2csv])\n",
      "  Downloading fastexcel-0.10.4-cp38-abi3-manylinux_2_17_x86_64.manylinux2014_x86_64.whl.metadata (2.8 kB)\n",
      "Requirement already satisfied: hvplot>=0.9.1 in /home/moonlyss/conda/envs/3.12/lib/python3.12/site-packages (from polars[fastexcel,plot,xlsx2csv]) (0.10.0)\n",
      "Requirement already satisfied: xlsx2csv>=0.8.0 in /home/moonlyss/conda/envs/3.12/lib/python3.12/site-packages (from polars[fastexcel,plot,xlsx2csv]) (0.8.2)\n",
      "Requirement already satisfied: pyarrow>=8.0.0 in /home/moonlyss/conda/envs/3.12/lib/python3.12/site-packages (from fastexcel>=0.9->polars[fastexcel,plot,xlsx2csv]) (15.0.0)\n",
      "Requirement already satisfied: bokeh>=1.0.0 in /home/moonlyss/conda/envs/3.12/lib/python3.12/site-packages (from hvplot>=0.9.1->polars[fastexcel,plot,xlsx2csv]) (3.4.1)\n",
      "Requirement already satisfied: colorcet>=2 in /home/moonlyss/conda/envs/3.12/lib/python3.12/site-packages (from hvplot>=0.9.1->polars[fastexcel,plot,xlsx2csv]) (3.1.0)\n",
      "Requirement already satisfied: holoviews>=1.11.0 in /home/moonlyss/conda/envs/3.12/lib/python3.12/site-packages (from hvplot>=0.9.1->polars[fastexcel,plot,xlsx2csv]) (1.18.3)\n",
      "Requirement already satisfied: numpy>=1.15 in /home/moonlyss/conda/envs/3.12/lib/python3.12/site-packages (from hvplot>=0.9.1->polars[fastexcel,plot,xlsx2csv]) (1.26.4)\n",
      "Requirement already satisfied: packaging in /home/moonlyss/conda/envs/3.12/lib/python3.12/site-packages (from hvplot>=0.9.1->polars[fastexcel,plot,xlsx2csv]) (23.2)\n",
      "Requirement already satisfied: pandas in /home/moonlyss/conda/envs/3.12/lib/python3.12/site-packages (from hvplot>=0.9.1->polars[fastexcel,plot,xlsx2csv]) (2.2.1)\n",
      "Requirement already satisfied: panel>=0.11.0 in /home/moonlyss/conda/envs/3.12/lib/python3.12/site-packages (from hvplot>=0.9.1->polars[fastexcel,plot,xlsx2csv]) (1.4.2)\n",
      "Requirement already satisfied: param<3.0,>=1.12.0 in /home/moonlyss/conda/envs/3.12/lib/python3.12/site-packages (from hvplot>=0.9.1->polars[fastexcel,plot,xlsx2csv]) (2.1.0)\n",
      "Requirement already satisfied: Jinja2>=2.9 in /home/moonlyss/conda/envs/3.12/lib/python3.12/site-packages (from bokeh>=1.0.0->hvplot>=0.9.1->polars[fastexcel,plot,xlsx2csv]) (3.1.3)\n",
      "Requirement already satisfied: contourpy>=1.2 in /home/moonlyss/conda/envs/3.12/lib/python3.12/site-packages (from bokeh>=1.0.0->hvplot>=0.9.1->polars[fastexcel,plot,xlsx2csv]) (1.2.0)\n",
      "Requirement already satisfied: pillow>=7.1.0 in /home/moonlyss/conda/envs/3.12/lib/python3.12/site-packages (from bokeh>=1.0.0->hvplot>=0.9.1->polars[fastexcel,plot,xlsx2csv]) (10.2.0)\n",
      "Requirement already satisfied: PyYAML>=3.10 in /home/moonlyss/.local/lib/python3.12/site-packages (from bokeh>=1.0.0->hvplot>=0.9.1->polars[fastexcel,plot,xlsx2csv]) (6.0.1)\n",
      "Requirement already satisfied: tornado>=6.2 in /home/moonlyss/conda/envs/3.12/lib/python3.12/site-packages (from bokeh>=1.0.0->hvplot>=0.9.1->polars[fastexcel,plot,xlsx2csv]) (6.4)\n",
      "Requirement already satisfied: xyzservices>=2021.09.1 in /home/moonlyss/conda/envs/3.12/lib/python3.12/site-packages (from bokeh>=1.0.0->hvplot>=0.9.1->polars[fastexcel,plot,xlsx2csv]) (2024.4.0)\n",
      "Requirement already satisfied: pyviz-comms>=0.7.4 in /home/moonlyss/conda/envs/3.12/lib/python3.12/site-packages (from holoviews>=1.11.0->hvplot>=0.9.1->polars[fastexcel,plot,xlsx2csv]) (3.0.2)\n",
      "Requirement already satisfied: python-dateutil>=2.8.2 in /home/moonlyss/.local/lib/python3.12/site-packages (from pandas->hvplot>=0.9.1->polars[fastexcel,plot,xlsx2csv]) (2.9.0.post0)\n",
      "Requirement already satisfied: pytz>=2020.1 in /home/moonlyss/conda/envs/3.12/lib/python3.12/site-packages (from pandas->hvplot>=0.9.1->polars[fastexcel,plot,xlsx2csv]) (2024.1)\n",
      "Requirement already satisfied: tzdata>=2022.7 in /home/moonlyss/conda/envs/3.12/lib/python3.12/site-packages (from pandas->hvplot>=0.9.1->polars[fastexcel,plot,xlsx2csv]) (2024.1)\n",
      "Requirement already satisfied: markdown in /home/moonlyss/conda/envs/3.12/lib/python3.12/site-packages (from panel>=0.11.0->hvplot>=0.9.1->polars[fastexcel,plot,xlsx2csv]) (3.6)\n",
      "Requirement already satisfied: markdown-it-py in /home/moonlyss/conda/envs/3.12/lib/python3.12/site-packages (from panel>=0.11.0->hvplot>=0.9.1->polars[fastexcel,plot,xlsx2csv]) (3.0.0)\n",
      "Requirement already satisfied: linkify-it-py in /home/moonlyss/conda/envs/3.12/lib/python3.12/site-packages (from panel>=0.11.0->hvplot>=0.9.1->polars[fastexcel,plot,xlsx2csv]) (2.0.3)\n",
      "Requirement already satisfied: mdit-py-plugins in /home/moonlyss/conda/envs/3.12/lib/python3.12/site-packages (from panel>=0.11.0->hvplot>=0.9.1->polars[fastexcel,plot,xlsx2csv]) (0.4.0)\n",
      "Requirement already satisfied: requests in /home/moonlyss/conda/envs/3.12/lib/python3.12/site-packages (from panel>=0.11.0->hvplot>=0.9.1->polars[fastexcel,plot,xlsx2csv]) (2.31.0)\n",
      "Requirement already satisfied: tqdm>=4.48.0 in /home/moonlyss/conda/envs/3.12/lib/python3.12/site-packages (from panel>=0.11.0->hvplot>=0.9.1->polars[fastexcel,plot,xlsx2csv]) (4.66.2)\n",
      "Requirement already satisfied: bleach in /home/moonlyss/conda/envs/3.12/lib/python3.12/site-packages (from panel>=0.11.0->hvplot>=0.9.1->polars[fastexcel,plot,xlsx2csv]) (6.1.0)\n",
      "Requirement already satisfied: typing-extensions in /home/moonlyss/.local/lib/python3.12/site-packages (from panel>=0.11.0->hvplot>=0.9.1->polars[fastexcel,plot,xlsx2csv]) (4.10.0)\n",
      "Requirement already satisfied: MarkupSafe>=2.0 in /home/moonlyss/conda/envs/3.12/lib/python3.12/site-packages (from Jinja2>=2.9->bokeh>=1.0.0->hvplot>=0.9.1->polars[fastexcel,plot,xlsx2csv]) (2.1.5)\n",
      "Requirement already satisfied: six>=1.5 in /home/moonlyss/conda/envs/3.12/lib/python3.12/site-packages (from python-dateutil>=2.8.2->pandas->hvplot>=0.9.1->polars[fastexcel,plot,xlsx2csv]) (1.16.0)\n",
      "Requirement already satisfied: webencodings in /home/moonlyss/conda/envs/3.12/lib/python3.12/site-packages (from bleach->panel>=0.11.0->hvplot>=0.9.1->polars[fastexcel,plot,xlsx2csv]) (0.5.1)\n",
      "Requirement already satisfied: uc-micro-py in /home/moonlyss/conda/envs/3.12/lib/python3.12/site-packages (from linkify-it-py->panel>=0.11.0->hvplot>=0.9.1->polars[fastexcel,plot,xlsx2csv]) (1.0.3)\n",
      "Requirement already satisfied: mdurl~=0.1 in /home/moonlyss/conda/envs/3.12/lib/python3.12/site-packages (from markdown-it-py->panel>=0.11.0->hvplot>=0.9.1->polars[fastexcel,plot,xlsx2csv]) (0.1.2)\n",
      "Requirement already satisfied: charset-normalizer<4,>=2 in /home/moonlyss/conda/envs/3.12/lib/python3.12/site-packages (from requests->panel>=0.11.0->hvplot>=0.9.1->polars[fastexcel,plot,xlsx2csv]) (3.3.2)\n",
      "Requirement already satisfied: idna<4,>=2.5 in /home/moonlyss/.local/lib/python3.12/site-packages (from requests->panel>=0.11.0->hvplot>=0.9.1->polars[fastexcel,plot,xlsx2csv]) (3.6)\n",
      "Requirement already satisfied: urllib3<3,>=1.21.1 in /home/moonlyss/conda/envs/3.12/lib/python3.12/site-packages (from requests->panel>=0.11.0->hvplot>=0.9.1->polars[fastexcel,plot,xlsx2csv]) (2.2.1)\n",
      "Requirement already satisfied: certifi>=2017.4.17 in /home/moonlyss/conda/envs/3.12/lib/python3.12/site-packages (from requests->panel>=0.11.0->hvplot>=0.9.1->polars[fastexcel,plot,xlsx2csv]) (2024.2.2)\n",
      "Downloading fastexcel-0.10.4-cp38-abi3-manylinux_2_17_x86_64.manylinux2014_x86_64.whl (1.2 MB)\n",
      "\u001b[2K   \u001b[90m━━━━━━━━━━━━━━━━━━━━━━━━━━━━━━━━━━━━━━━━\u001b[0m \u001b[32m1.2/1.2 MB\u001b[0m \u001b[31m9.4 MB/s\u001b[0m eta \u001b[36m0:00:00\u001b[0mta \u001b[36m0:00:01\u001b[0m\n",
      "\u001b[?25hInstalling collected packages: fastexcel\n",
      "Successfully installed fastexcel-0.10.4\n"
     ]
    }
   ],
   "source": [
    "!pip install 'polars[xlsx2csv,plot, fastexcel]'"
   ]
  },
  {
   "cell_type": "code",
   "execution_count": 1,
   "id": "87838e34-9e32-4212-bd45-5591c661656b",
   "metadata": {},
   "outputs": [],
   "source": [
    "import polars as pl"
   ]
  },
  {
   "cell_type": "code",
   "execution_count": 83,
   "id": "2e7cb82d-c2f3-43b3-8e8f-72353f214f9f",
   "metadata": {},
   "outputs": [
    {
     "name": "stdout",
     "output_type": "stream",
     "text": [
      "These columns will be dropped : Green economic efficiency (GEE),  Digital economy,  Super-efficient SBM,  Transmission mechanism,  Urban level,  China, Economic digitalization,  Energy transition,  Green industrial development,  Carbon productivity,  Sustainable development,  G7 countries.\n"
     ]
    },
    {
     "data": {
      "text/html": [
       "<div><style>\n",
       ".dataframe > thead > tr,\n",
       ".dataframe > tbody > tr {\n",
       "  text-align: right;\n",
       "  white-space: pre-wrap;\n",
       "}\n",
       "</style>\n",
       "<small>shape: (9, 70)</small><table border=\"1\" class=\"dataframe\"><thead><tr><th>statistic</th><th>Id</th><th>Author</th><th>Subject</th><th>Publication</th><th>Volume</th><th>Year</th><th>Others</th><th>Others_1</th><th>Others_2</th><th>Others_3</th><th>Abstract</th><th>Keywords</th><th>nbkw</th><th>KW1</th><th>KW2</th><th>KW3</th><th>KW4</th><th>KW5</th><th>KW6</th><th>KW7</th><th>KW8</th><th>KW9</th><th>KW10</th><th>KW11</th><th>KW12</th><th>KW13</th><th>KW14</th><th>KW15</th><th>KW16</th><th>KW17</th><th>KW18</th><th>KW19</th><th>KW20</th><th>KW21</th><th>KW22</th><th>KW23</th><th>KW24</th><th>KW25</th><th>KW26</th><th>KW27</th><th>KW28</th><th>KW29</th><th>KW30</th><th>KW31</th><th>KW32</th><th>KW33</th><th>KW34</th><th>KW35</th><th>KW36</th><th>KW37</th><th>KW38</th><th>KW39</th><th>KW40</th><th>KW41</th><th>KW42</th><th>KW43</th><th>KW44</th><th>KW45</th><th>KW46</th><th>KW47</th><th>KW48</th><th>KW49</th><th>KW50</th><th>KW51</th><th>KW52</th><th>KW53</th><th>KW54</th><th>KW55</th><th>KW56</th></tr><tr><td>str</td><td>f64</td><td>str</td><td>str</td><td>str</td><td>str</td><td>f64</td><td>str</td><td>str</td><td>str</td><td>str</td><td>str</td><td>str</td><td>f64</td><td>str</td><td>str</td><td>str</td><td>str</td><td>str</td><td>str</td><td>str</td><td>str</td><td>str</td><td>str</td><td>str</td><td>str</td><td>str</td><td>str</td><td>str</td><td>str</td><td>str</td><td>str</td><td>str</td><td>str</td><td>str</td><td>f64</td><td>f64</td><td>f64</td><td>f64</td><td>f64</td><td>f64</td><td>f64</td><td>f64</td><td>f64</td><td>f64</td><td>f64</td><td>f64</td><td>f64</td><td>f64</td><td>f64</td><td>f64</td><td>f64</td><td>f64</td><td>f64</td><td>f64</td><td>f64</td><td>f64</td><td>f64</td><td>f64</td><td>f64</td><td>f64</td><td>f64</td><td>f64</td><td>f64</td><td>f64</td><td>f64</td><td>f64</td><td>f64</td><td>f64</td><td>f64</td></tr></thead><tbody><tr><td>&quot;count&quot;</td><td>543.0</td><td>&quot;543&quot;</td><td>&quot;543&quot;</td><td>&quot;543&quot;</td><td>&quot;536&quot;</td><td>543.0</td><td>&quot;543&quot;</td><td>&quot;543&quot;</td><td>&quot;543&quot;</td><td>&quot;543&quot;</td><td>&quot;543&quot;</td><td>&quot;543&quot;</td><td>543.0</td><td>&quot;543&quot;</td><td>&quot;534&quot;</td><td>&quot;533&quot;</td><td>&quot;525&quot;</td><td>&quot;484&quot;</td><td>&quot;365&quot;</td><td>&quot;254&quot;</td><td>&quot;209&quot;</td><td>&quot;193&quot;</td><td>&quot;187&quot;</td><td>&quot;175&quot;</td><td>&quot;171&quot;</td><td>&quot;167&quot;</td><td>&quot;164&quot;</td><td>&quot;161&quot;</td><td>&quot;161&quot;</td><td>&quot;159&quot;</td><td>&quot;158&quot;</td><td>&quot;158&quot;</td><td>&quot;157&quot;</td><td>&quot;157&quot;</td><td>0.0</td><td>0.0</td><td>0.0</td><td>0.0</td><td>0.0</td><td>0.0</td><td>0.0</td><td>0.0</td><td>0.0</td><td>0.0</td><td>0.0</td><td>0.0</td><td>0.0</td><td>0.0</td><td>0.0</td><td>0.0</td><td>0.0</td><td>0.0</td><td>0.0</td><td>0.0</td><td>0.0</td><td>0.0</td><td>0.0</td><td>0.0</td><td>0.0</td><td>0.0</td><td>0.0</td><td>0.0</td><td>0.0</td><td>0.0</td><td>0.0</td><td>0.0</td><td>0.0</td><td>0.0</td><td>0.0</td></tr><tr><td>&quot;null_count&quot;</td><td>0.0</td><td>&quot;0&quot;</td><td>&quot;0&quot;</td><td>&quot;0&quot;</td><td>&quot;7&quot;</td><td>0.0</td><td>&quot;0&quot;</td><td>&quot;0&quot;</td><td>&quot;0&quot;</td><td>&quot;0&quot;</td><td>&quot;0&quot;</td><td>&quot;0&quot;</td><td>0.0</td><td>&quot;0&quot;</td><td>&quot;9&quot;</td><td>&quot;10&quot;</td><td>&quot;18&quot;</td><td>&quot;59&quot;</td><td>&quot;178&quot;</td><td>&quot;289&quot;</td><td>&quot;334&quot;</td><td>&quot;350&quot;</td><td>&quot;356&quot;</td><td>&quot;368&quot;</td><td>&quot;372&quot;</td><td>&quot;376&quot;</td><td>&quot;379&quot;</td><td>&quot;382&quot;</td><td>&quot;382&quot;</td><td>&quot;384&quot;</td><td>&quot;385&quot;</td><td>&quot;385&quot;</td><td>&quot;386&quot;</td><td>&quot;386&quot;</td><td>543.0</td><td>543.0</td><td>543.0</td><td>543.0</td><td>543.0</td><td>543.0</td><td>543.0</td><td>543.0</td><td>543.0</td><td>543.0</td><td>543.0</td><td>543.0</td><td>543.0</td><td>543.0</td><td>543.0</td><td>543.0</td><td>543.0</td><td>543.0</td><td>543.0</td><td>543.0</td><td>543.0</td><td>543.0</td><td>543.0</td><td>543.0</td><td>543.0</td><td>543.0</td><td>543.0</td><td>543.0</td><td>543.0</td><td>543.0</td><td>543.0</td><td>543.0</td><td>543.0</td><td>543.0</td><td>543.0</td></tr><tr><td>&quot;mean&quot;</td><td>272.0</td><td>null</td><td>null</td><td>null</td><td>null</td><td>2020.714549</td><td>null</td><td>null</td><td>null</td><td>null</td><td>null</td><td>null</td><td>5.918969</td><td>null</td><td>null</td><td>null</td><td>null</td><td>null</td><td>null</td><td>null</td><td>null</td><td>null</td><td>null</td><td>null</td><td>null</td><td>null</td><td>null</td><td>null</td><td>null</td><td>null</td><td>null</td><td>null</td><td>null</td><td>null</td><td>null</td><td>null</td><td>null</td><td>null</td><td>null</td><td>null</td><td>null</td><td>null</td><td>null</td><td>null</td><td>null</td><td>null</td><td>null</td><td>null</td><td>null</td><td>null</td><td>null</td><td>null</td><td>null</td><td>null</td><td>null</td><td>null</td><td>null</td><td>null</td><td>null</td><td>null</td><td>null</td><td>null</td><td>null</td><td>null</td><td>null</td><td>null</td><td>null</td><td>null</td><td>null</td></tr><tr><td>&quot;std&quot;</td><td>156.894869</td><td>null</td><td>null</td><td>null</td><td>null</td><td>3.183431</td><td>null</td><td>null</td><td>null</td><td>null</td><td>null</td><td>null</td><td>3.080241</td><td>null</td><td>null</td><td>null</td><td>null</td><td>null</td><td>null</td><td>null</td><td>null</td><td>null</td><td>null</td><td>null</td><td>null</td><td>null</td><td>null</td><td>null</td><td>null</td><td>null</td><td>null</td><td>null</td><td>null</td><td>null</td><td>null</td><td>null</td><td>null</td><td>null</td><td>null</td><td>null</td><td>null</td><td>null</td><td>null</td><td>null</td><td>null</td><td>null</td><td>null</td><td>null</td><td>null</td><td>null</td><td>null</td><td>null</td><td>null</td><td>null</td><td>null</td><td>null</td><td>null</td><td>null</td><td>null</td><td>null</td><td>null</td><td>null</td><td>null</td><td>null</td><td>null</td><td>null</td><td>null</td><td>null</td><td>null</td></tr><tr><td>&quot;min&quot;</td><td>1.0</td><td>&quot;A. Bordes, D.L. Danilov, P. De…</td><td>&quot;1 - Façade innovation: between…</td><td>&quot;Academic Press&quot;</td><td>&quot;2023,&quot;</td><td>1999.0</td><td>&quot;,&quot;</td><td>&quot;ISBN 9780081020593,&quot;</td><td>&quot;(https://www.sciencedirect.com…</td><td>&quot;(https://www.sciencedirect.com…</td><td>&quot;Abstract: 3D concrete printing…</td><td>&quot;2D material; First principle; …</td><td>1.0</td><td>&quot;2D material&quot;</td><td>&quot;&quot;</td><td>&quot;&quot;</td><td>&quot;&quot;</td><td>&quot;&quot;</td><td>&quot;&quot;</td><td>&quot;&quot;</td><td>&quot;&quot;</td><td>&quot;&quot;</td><td>&quot;&quot;</td><td>&quot;&quot;</td><td>&quot;&quot;</td><td>&quot;&quot;</td><td>&quot;&quot;</td><td>&quot;&quot;</td><td>&quot;&quot;</td><td>&quot;&quot;</td><td>&quot;&quot;</td><td>&quot;&quot;</td><td>&quot;&quot;</td><td>&quot;&quot;</td><td>null</td><td>null</td><td>null</td><td>null</td><td>null</td><td>null</td><td>null</td><td>null</td><td>null</td><td>null</td><td>null</td><td>null</td><td>null</td><td>null</td><td>null</td><td>null</td><td>null</td><td>null</td><td>null</td><td>null</td><td>null</td><td>null</td><td>null</td><td>null</td><td>null</td><td>null</td><td>null</td><td>null</td><td>null</td><td>null</td><td>null</td><td>null</td><td>null</td><td>null</td><td>null</td></tr><tr><td>&quot;25%&quot;</td><td>137.0</td><td>null</td><td>null</td><td>null</td><td>null</td><td>2020.0</td><td>null</td><td>null</td><td>null</td><td>null</td><td>null</td><td>null</td><td>5.0</td><td>null</td><td>null</td><td>null</td><td>null</td><td>null</td><td>null</td><td>null</td><td>null</td><td>null</td><td>null</td><td>null</td><td>null</td><td>null</td><td>null</td><td>null</td><td>null</td><td>null</td><td>null</td><td>null</td><td>null</td><td>null</td><td>null</td><td>null</td><td>null</td><td>null</td><td>null</td><td>null</td><td>null</td><td>null</td><td>null</td><td>null</td><td>null</td><td>null</td><td>null</td><td>null</td><td>null</td><td>null</td><td>null</td><td>null</td><td>null</td><td>null</td><td>null</td><td>null</td><td>null</td><td>null</td><td>null</td><td>null</td><td>null</td><td>null</td><td>null</td><td>null</td><td>null</td><td>null</td><td>null</td><td>null</td><td>null</td></tr><tr><td>&quot;50%&quot;</td><td>272.0</td><td>null</td><td>null</td><td>null</td><td>null</td><td>2022.0</td><td>null</td><td>null</td><td>null</td><td>null</td><td>null</td><td>null</td><td>5.0</td><td>null</td><td>null</td><td>null</td><td>null</td><td>null</td><td>null</td><td>null</td><td>null</td><td>null</td><td>null</td><td>null</td><td>null</td><td>null</td><td>null</td><td>null</td><td>null</td><td>null</td><td>null</td><td>null</td><td>null</td><td>null</td><td>null</td><td>null</td><td>null</td><td>null</td><td>null</td><td>null</td><td>null</td><td>null</td><td>null</td><td>null</td><td>null</td><td>null</td><td>null</td><td>null</td><td>null</td><td>null</td><td>null</td><td>null</td><td>null</td><td>null</td><td>null</td><td>null</td><td>null</td><td>null</td><td>null</td><td>null</td><td>null</td><td>null</td><td>null</td><td>null</td><td>null</td><td>null</td><td>null</td><td>null</td><td>null</td></tr><tr><td>&quot;75%&quot;</td><td>408.0</td><td>null</td><td>null</td><td>null</td><td>null</td><td>2023.0</td><td>null</td><td>null</td><td>null</td><td>null</td><td>null</td><td>null</td><td>6.0</td><td>null</td><td>null</td><td>null</td><td>null</td><td>null</td><td>null</td><td>null</td><td>null</td><td>null</td><td>null</td><td>null</td><td>null</td><td>null</td><td>null</td><td>null</td><td>null</td><td>null</td><td>null</td><td>null</td><td>null</td><td>null</td><td>null</td><td>null</td><td>null</td><td>null</td><td>null</td><td>null</td><td>null</td><td>null</td><td>null</td><td>null</td><td>null</td><td>null</td><td>null</td><td>null</td><td>null</td><td>null</td><td>null</td><td>null</td><td>null</td><td>null</td><td>null</td><td>null</td><td>null</td><td>null</td><td>null</td><td>null</td><td>null</td><td>null</td><td>null</td><td>null</td><td>null</td><td>null</td><td>null</td><td>null</td><td>null</td></tr><tr><td>&quot;max&quot;</td><td>543.0</td><td>&quot;Zuzana Gerhátová, Vladislav Zi…</td><td>&quot;“Techno-market fix”? Decoding …</td><td>&quot;eTransportation&quot;</td><td>&quot;_&quot;</td><td>2024.0</td><td>&quot;e21475,&quot;</td><td>&quot;https://doi.org/10.1016/j.segy…</td><td>&quot;https://doi.org/10.3390/joitmc…</td><td>&quot;_&quot;</td><td>&quot;Abstract: “You realise that th…</td><td>&quot;virtual staining; label-free m…</td><td>56.0</td><td>&quot;virtual staining&quot;</td><td>&quot;smart cities&quot;</td><td>&quot;water energy management&quot;</td><td>&quot;safe medication&quot;</td><td>&quot;social workers&quot;</td><td>&quot;workover&quot;</td><td>&quot;digital transformation&quot;</td><td>&quot;low carbon economy&quot;</td><td>&quot;Unfolding new social innovatio…</td><td>&quot;New digital era&quot;</td><td>&quot;Sustainability&quot;</td><td>&quot;Sustainability&quot;</td><td>&quot;Hazard&quot;</td><td>&quot;Industry&quot;</td><td>&quot;Innovation&quot;</td><td>&quot;Materials&quot;</td><td>&quot;Process&quot;</td><td>&quot;Reaction&quot;</td><td>&quot;Sustainable&quot;</td><td>&quot;Technology&quot;</td><td>&quot;Tools&quot;</td><td>null</td><td>null</td><td>null</td><td>null</td><td>null</td><td>null</td><td>null</td><td>null</td><td>null</td><td>null</td><td>null</td><td>null</td><td>null</td><td>null</td><td>null</td><td>null</td><td>null</td><td>null</td><td>null</td><td>null</td><td>null</td><td>null</td><td>null</td><td>null</td><td>null</td><td>null</td><td>null</td><td>null</td><td>null</td><td>null</td><td>null</td><td>null</td><td>null</td><td>null</td><td>null</td></tr></tbody></table></div>"
      ],
      "text/plain": [
       "shape: (9, 70)\n",
       "┌────────────┬────────────┬──────────────────┬─────────────────┬───┬───────┬───────┬───────┬───────┐\n",
       "│ statistic  ┆ Id         ┆ Author           ┆ Subject         ┆ … ┆ KW53  ┆ KW54  ┆ KW55  ┆ KW56  │\n",
       "│ ---        ┆ ---        ┆ ---              ┆ ---             ┆   ┆ ---   ┆ ---   ┆ ---   ┆ ---   │\n",
       "│ str        ┆ f64        ┆ str              ┆ str             ┆   ┆ f64   ┆ f64   ┆ f64   ┆ f64   │\n",
       "╞════════════╪════════════╪══════════════════╪═════════════════╪═══╪═══════╪═══════╪═══════╪═══════╡\n",
       "│ count      ┆ 543.0      ┆ 543              ┆ 543             ┆ … ┆ 0.0   ┆ 0.0   ┆ 0.0   ┆ 0.0   │\n",
       "│ null_count ┆ 0.0        ┆ 0                ┆ 0               ┆ … ┆ 543.0 ┆ 543.0 ┆ 543.0 ┆ 543.0 │\n",
       "│ mean       ┆ 272.0      ┆ null             ┆ null            ┆ … ┆ null  ┆ null  ┆ null  ┆ null  │\n",
       "│ std        ┆ 156.894869 ┆ null             ┆ null            ┆ … ┆ null  ┆ null  ┆ null  ┆ null  │\n",
       "│ min        ┆ 1.0        ┆ A. Bordes, D.L.  ┆ 1 - Façade      ┆ … ┆ null  ┆ null  ┆ null  ┆ null  │\n",
       "│            ┆            ┆ Danilov, P. De…  ┆ innovation:     ┆   ┆       ┆       ┆       ┆       │\n",
       "│            ┆            ┆                  ┆ between…        ┆   ┆       ┆       ┆       ┆       │\n",
       "│ 25%        ┆ 137.0      ┆ null             ┆ null            ┆ … ┆ null  ┆ null  ┆ null  ┆ null  │\n",
       "│ 50%        ┆ 272.0      ┆ null             ┆ null            ┆ … ┆ null  ┆ null  ┆ null  ┆ null  │\n",
       "│ 75%        ┆ 408.0      ┆ null             ┆ null            ┆ … ┆ null  ┆ null  ┆ null  ┆ null  │\n",
       "│ max        ┆ 543.0      ┆ Zuzana           ┆ “Techno-market  ┆ … ┆ null  ┆ null  ┆ null  ┆ null  │\n",
       "│            ┆            ┆ Gerhátová,       ┆ fix”? Decoding  ┆   ┆       ┆       ┆       ┆       │\n",
       "│            ┆            ┆ Vladislav Zi…    ┆ …               ┆   ┆       ┆       ┆       ┆       │\n",
       "└────────────┴────────────┴──────────────────┴─────────────────┴───┴───────┴───────┴───────┴───────┘"
      ]
     },
     "execution_count": 83,
     "metadata": {},
     "output_type": "execute_result"
    }
   ],
   "source": [
    "bim_dataset_path = \"bim_dataset.xlsx\"\n",
    "# publications = pl.read_excel(bim_dataset_path, sheet_name=\"Publications\")\n",
    "# keywords = pl.read_excel(bim_dataset_path, sheet_name=\"Keywords\")\n",
    "papers = (\n",
    "    pl\n",
    "        .read_excel(bim_dataset_path, sheet_name=\"Papers\", engine=\"calamine\", schema_overrides={\"Year\": pl.UInt16})\n",
    "        .rename({\"__UNNAMED__0\":\"Id\"})\n",
    "         )\n",
    "nb_end_cols_to_drop = 12\n",
    "to_drop = papers.columns[-nb_end_cols_to_drop:]\n",
    "print(f\"These columns will be dropped : {\", \".join(to_drop)}.\")\n",
    "papers = papers.drop(to_drop)\n",
    "papers.describe()"
   ]
  }
 ],
 "metadata": {
  "kernelspec": {
   "display_name": "Python 3 (ipykernel)",
   "language": "python",
   "name": "python3"
  },
  "language_info": {
   "codemirror_mode": {
    "name": "ipython",
    "version": 3
   },
   "file_extension": ".py",
   "mimetype": "text/x-python",
   "name": "python",
   "nbconvert_exporter": "python",
   "pygments_lexer": "ipython3",
   "version": "3.12.2"
  }
 },
 "nbformat": 4,
 "nbformat_minor": 5
}
