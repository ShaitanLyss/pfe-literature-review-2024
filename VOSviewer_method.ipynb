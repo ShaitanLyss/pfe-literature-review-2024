{
 "cells": [
  {
   "cell_type": "code",
   "execution_count": 292,
   "id": "154659da-e020-47b5-a5d1-64d806d0f5c0",
   "metadata": {},
   "outputs": [],
   "source": [
    "import text_mining\n",
    "from utils import scan_df, write_df\n",
    "import polars as pl\n",
    "import jax.numpy as jnp\n",
    "import importlib\n",
    "None"
   ]
  },
  {
   "cell_type": "code",
   "execution_count": 1,
   "id": "f4d51639-ceae-4124-9fb3-702ac488df0a",
   "metadata": {},
   "outputs": [
    {
     "ename": "NameError",
     "evalue": "name 'importlib' is not defined",
     "output_type": "error",
     "traceback": [
      "\u001b[0;31m---------------------------------------------------------------------------\u001b[0m",
      "\u001b[0;31mNameError\u001b[0m                                 Traceback (most recent call last)",
      "Cell \u001b[0;32mIn[1], line 2\u001b[0m\n\u001b[1;32m      1\u001b[0m \u001b[38;5;28;01mimport\u001b[39;00m \u001b[38;5;21;01mtext_mining\u001b[39;00m\n\u001b[0;32m----> 2\u001b[0m \u001b[43mimportlib\u001b[49m\u001b[38;5;241m.\u001b[39mreload(text_mining)\n\u001b[1;32m      4\u001b[0m vos_miner_res \u001b[38;5;241m=\u001b[39m text_mining\u001b[38;5;241m.\u001b[39mvos_viewer(\n\u001b[1;32m      5\u001b[0m     scan_df(\u001b[38;5;124m\"\u001b[39m\u001b[38;5;124mpapers\u001b[39m\u001b[38;5;124m\"\u001b[39m)\u001b[38;5;241m.\u001b[39mhead(\u001b[38;5;241m5\u001b[39m), \n\u001b[1;32m      6\u001b[0m     doc_id\u001b[38;5;241m=\u001b[39m\u001b[38;5;124m\"\u001b[39m\u001b[38;5;124mId\u001b[39m\u001b[38;5;124m\"\u001b[39m,\n\u001b[0;32m   (...)\u001b[0m\n\u001b[1;32m     12\u001b[0m     relevance_threshold\u001b[38;5;241m=\u001b[39m\u001b[38;5;241m0.1\u001b[39m\n\u001b[1;32m     13\u001b[0m )\n\u001b[1;32m     14\u001b[0m write_df(\u001b[38;5;124m\"\u001b[39m\u001b[38;5;124mrelevant_terms\u001b[39m\u001b[38;5;124m\"\u001b[39m, vos_miner_res\u001b[38;5;241m.\u001b[39mrelevant_terms\u001b[38;5;241m.\u001b[39msort(\u001b[38;5;124m\"\u001b[39m\u001b[38;5;124mpaper_count\u001b[39m\u001b[38;5;124m\"\u001b[39m, \u001b[38;5;124m\"\u001b[39m\u001b[38;5;124mcount\u001b[39m\u001b[38;5;124m\"\u001b[39m, \u001b[38;5;124m\"\u001b[39m\u001b[38;5;124mrelevance\u001b[39m\u001b[38;5;124m\"\u001b[39m, descending\u001b[38;5;241m=\u001b[39m\u001b[38;5;28;01mTrue\u001b[39;00m))\n",
      "\u001b[0;31mNameError\u001b[0m: name 'importlib' is not defined"
     ]
    }
   ],
   "source": [
    "import text_mining\n",
    "importlib.reload(text_mining)\n",
    "\n",
    "vos_miner_res = text_mining.vos_viewer(\n",
    "    scan_df(\"papers\"), \n",
    "    doc_id=\"Id\",\n",
    "    text_cols=[\n",
    "        \"Subject\",\n",
    "        \"Abstract\",\n",
    "        \"Keywords\"\n",
    "    ],\n",
    "    relevance_threshold=0.1\n",
    ")\n",
    "write_df(\"relevant_terms\", vos_miner_res.relevant_terms.sort(\"paper_count\", \"count\", \"relevance\", descending=True))\n",
    "vos_miner_res.relevant_terms"
   ]
  },
  {
   "cell_type": "code",
   "execution_count": 294,
   "id": "6d2a4673-a70d-44d9-a1bc-8fe0e8ddc9c5",
   "metadata": {},
   "outputs": [
    {
     "data": {
      "text/plain": [
       "Array([[467,  95,  37, ...,   0,   0,   6],\n",
       "       [ 95, 369,  47, ...,   0,   6,   0],\n",
       "       [ 37,  47, 212, ...,   0,   0,   6],\n",
       "       ...,\n",
       "       [  0,   0,   0, ...,  36,   0,   0],\n",
       "       [  0,   6,   0, ...,   0,  36,   0],\n",
       "       [  6,   0,   6, ...,   0,   0,  36]], dtype=uint32)"
      ]
     },
     "execution_count": 294,
     "metadata": {},
     "output_type": "execute_result"
    }
   ],
   "source": [
    "vos_miner_res.cooccurences_mat"
   ]
  },
  {
   "cell_type": "code",
   "execution_count": 296,
   "id": "a6e09fe3-8024-4dee-826c-87af82885751",
   "metadata": {},
   "outputs": [
    {
     "data": {
      "text/plain": [
       "['china',\n",
       " 'carbon emission',\n",
       " 'digital economy',\n",
       " 'panel data',\n",
       " 'theory',\n",
       " 'definition',\n",
       " 'digital infrastructure',\n",
       " 'skill',\n",
       " 'green innovation',\n",
       " 'long term',\n",
       " 'empirical result',\n",
       " 'woman',\n",
       " 'green technology innovation',\n",
       " 'smart manufacturing',\n",
       " 'positive effect',\n",
       " 'prefecture-level city',\n",
       " 'robustness test',\n",
       " 'spatial spillover effect',\n",
       " 'digital divide',\n",
       " 'industrial structure',\n",
       " 'mechanism analysis',\n",
       " 'urban agglomeration',\n",
       " 'emission reduction',\n",
       " 'green development',\n",
       " 'extent',\n",
       " 'digital finance',\n",
       " 'bangladesh',\n",
       " 'carbon emission reduction',\n",
       " 'construction material',\n",
       " 'carbon',\n",
       " 'chinese city',\n",
       " 'cps',\n",
       " 'resource-based city',\n",
       " 'demolition waste',\n",
       " 'green finance',\n",
       " 'poverty alleviation',\n",
       " 'energy conservation',\n",
       " 'dic',\n",
       " 'smart city construction',\n",
       " 'law',\n",
       " 'resource curse',\n",
       " 'carbon emission efficiency',\n",
       " 'clean energy development',\n",
       " 'teacher',\n",
       " 'dilemma',\n",
       " 'energy security',\n",
       " 'ict sector',\n",
       " 'gde',\n",
       " 'unit',\n",
       " 'cdw',\n",
       " 'digital government',\n",
       " ']',\n",
       " 'urban digital transformation',\n",
       " 'professional development',\n",
       " 'financing constraint',\n",
       " 'long-term effect',\n",
       " 'urban green economic efficiency',\n",
       " 'green development efficiency',\n",
       " 'mpo',\n",
       " 'social inequality',\n",
       " 'osc',\n",
       " 'regional eco-innovation',\n",
       " 'highway',\n",
       " 'dcs',\n",
       " 'micrm',\n",
       " 'smallholder farmer',\n",
       " 'die',\n",
       " 'hsm',\n",
       " 'psc',\n",
       " 'lcsa',\n",
       " 'rap aggregate',\n",
       " 'virgin',\n",
       " 'knowledge intermediation',\n",
       " 'regional collaborative innovation',\n",
       " 'dci',\n",
       " 'blockchain adoption',\n",
       " 'smart-hybrid supercapacitors',\n",
       " 'industrial digitalization',\n",
       " 'gee',\n",
       " 'diagg',\n",
       " 'homogeneity',\n",
       " 'economic digitalization',\n",
       " 'gbrss',\n",
       " 'sirs',\n",
       " 'animal',\n",
       " 'di',\n",
       " 'social medium usage',\n",
       " 'innovation capability',\n",
       " 'construction enterprise',\n",
       " 'cee',\n",
       " 'high-quality green development',\n",
       " 'firm green innovation',\n",
       " 'ict development',\n",
       " 'low-carbon consumption',\n",
       " 'dm']"
      ]
     },
     "execution_count": 296,
     "metadata": {},
     "output_type": "execute_result"
    }
   ],
   "source": [
    "vos_miner_res.relevant_terms[\"term\"].to_list()"
   ]
  }
 ],
 "metadata": {
  "kernelspec": {
   "display_name": "Python 3 (ipykernel)",
   "language": "python",
   "name": "python3"
  },
  "language_info": {
   "codemirror_mode": {
    "name": "ipython",
    "version": 3
   },
   "file_extension": ".py",
   "mimetype": "text/x-python",
   "name": "python",
   "nbconvert_exporter": "python",
   "pygments_lexer": "ipython3",
   "version": "3.12.2"
  }
 },
 "nbformat": 4,
 "nbformat_minor": 5
}
