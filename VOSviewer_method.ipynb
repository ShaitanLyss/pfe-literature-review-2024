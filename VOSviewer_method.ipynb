{
 "cells": [
  {
   "cell_type": "code",
   "execution_count": 292,
   "id": "154659da-e020-47b5-a5d1-64d806d0f5c0",
   "metadata": {},
   "outputs": [],
   "source": [
    "import text_mining\n",
    "from utils import scan_df, write_df\n",
    "import polars as pl\n",
    "import jax.numpy as jnp\n",
    "import importlib\n",
    "None"
   ]
  },
  {
   "cell_type": "code",
   "execution_count": 295,
   "id": "f4d51639-ceae-4124-9fb3-702ac488df0a",
   "metadata": {},
   "outputs": [
    {
     "name": "stderr",
     "output_type": "stream",
     "text": [
      "Identifying terms...\n",
      "Done in 8.1s.\n",
      "Computing relevant terms...\n",
      "Done in 2.0s.\n"
     ]
    },
    {
     "data": {
      "text/html": [
       "<div><style>\n",
       ".dataframe > thead > tr,\n",
       ".dataframe > tbody > tr {\n",
       "  text-align: right;\n",
       "  white-space: pre-wrap;\n",
       "}\n",
       "</style>\n",
       "<small>shape: (95, 6)</small><table border=\"1\" class=\"dataframe\"><thead><tr><th>id</th><th>term</th><th>doc_ids</th><th>count</th><th>paper_count</th><th>relevance</th></tr><tr><td>u32</td><td>str</td><td>list[i64]</td><td>u32</td><td>u32</td><td>f32</td></tr></thead><tbody><tr><td>34</td><td>&quot;china&quot;</td><td>[203, 238, … 279]</td><td>106</td><td>53</td><td>0.134143</td></tr><tr><td>113</td><td>&quot;carbon emission&quot;</td><td>[229, 329, … 32]</td><td>55</td><td>24</td><td>0.124926</td></tr><tr><td>166</td><td>&quot;digital economy&quot;</td><td>[294, 198, … 154]</td><td>75</td><td>18</td><td>0.334728</td></tr><tr><td>204</td><td>&quot;panel data&quot;</td><td>[173, 128, … 114]</td><td>16</td><td>16</td><td>0.149959</td></tr><tr><td>243</td><td>&quot;theory&quot;</td><td>[330, 220, … 8]</td><td>18</td><td>13</td><td>0.148106</td></tr><tr><td>&hellip;</td><td>&hellip;</td><td>&hellip;</td><td>&hellip;</td><td>&hellip;</td><td>&hellip;</td></tr><tr><td>870</td><td>&quot;high-quality green development&quot;</td><td>[214, 214, … 214]</td><td>6</td><td>1</td><td>0.237552</td></tr><tr><td>871</td><td>&quot;firm green innovation&quot;</td><td>[49, 49, … 49]</td><td>6</td><td>1</td><td>0.230014</td></tr><tr><td>873</td><td>&quot;ict development&quot;</td><td>[238, 238, … 238]</td><td>6</td><td>1</td><td>0.180513</td></tr><tr><td>875</td><td>&quot;low-carbon consumption&quot;</td><td>[241, 241, … 241]</td><td>6</td><td>1</td><td>0.36328</td></tr><tr><td>876</td><td>&quot;dm&quot;</td><td>[216, 216, … 216]</td><td>6</td><td>1</td><td>0.110421</td></tr></tbody></table></div>"
      ],
      "text/plain": [
       "shape: (95, 6)\n",
       "┌─────┬────────────────────────────────┬───────────────────┬───────┬─────────────┬───────────┐\n",
       "│ id  ┆ term                           ┆ doc_ids           ┆ count ┆ paper_count ┆ relevance │\n",
       "│ --- ┆ ---                            ┆ ---               ┆ ---   ┆ ---         ┆ ---       │\n",
       "│ u32 ┆ str                            ┆ list[i64]         ┆ u32   ┆ u32         ┆ f32       │\n",
       "╞═════╪════════════════════════════════╪═══════════════════╪═══════╪═════════════╪═══════════╡\n",
       "│ 34  ┆ china                          ┆ [203, 238, … 279] ┆ 106   ┆ 53          ┆ 0.134143  │\n",
       "│ 113 ┆ carbon emission                ┆ [229, 329, … 32]  ┆ 55    ┆ 24          ┆ 0.124926  │\n",
       "│ 166 ┆ digital economy                ┆ [294, 198, … 154] ┆ 75    ┆ 18          ┆ 0.334728  │\n",
       "│ 204 ┆ panel data                     ┆ [173, 128, … 114] ┆ 16    ┆ 16          ┆ 0.149959  │\n",
       "│ 243 ┆ theory                         ┆ [330, 220, … 8]   ┆ 18    ┆ 13          ┆ 0.148106  │\n",
       "│ …   ┆ …                              ┆ …                 ┆ …     ┆ …           ┆ …         │\n",
       "│ 870 ┆ high-quality green development ┆ [214, 214, … 214] ┆ 6     ┆ 1           ┆ 0.237552  │\n",
       "│ 871 ┆ firm green innovation          ┆ [49, 49, … 49]    ┆ 6     ┆ 1           ┆ 0.230014  │\n",
       "│ 873 ┆ ict development                ┆ [238, 238, … 238] ┆ 6     ┆ 1           ┆ 0.180513  │\n",
       "│ 875 ┆ low-carbon consumption         ┆ [241, 241, … 241] ┆ 6     ┆ 1           ┆ 0.36328   │\n",
       "│ 876 ┆ dm                             ┆ [216, 216, … 216] ┆ 6     ┆ 1           ┆ 0.110421  │\n",
       "└─────┴────────────────────────────────┴───────────────────┴───────┴─────────────┴───────────┘"
      ]
     },
     "execution_count": 295,
     "metadata": {},
     "output_type": "execute_result"
    }
   ],
   "source": [
    "import text_mining\n",
    "importlib.reload(text_mining)\n",
    "\n",
    "vos_miner_res = text_mining.vos_viewer(\n",
    "    scan_df(\"papers\"), \n",
    "    doc_id=\"Id\",\n",
    "    text_cols=[\n",
    "        \"Subject\",\n",
    "        \"Abstract\",\n",
    "        \"Keywords\"\n",
    "    ],\n",
    "    relevance_threshold=0.1\n",
    ")\n",
    "write_df(\"relevant_terms\", vos_miner_res.relevant_terms.sort(\"paper_count\", \"count\", \"relevance\", descending=True))\n",
    "vos_miner_res.relevant_terms"
   ]
  },
  {
   "cell_type": "code",
   "execution_count": 294,
   "id": "6d2a4673-a70d-44d9-a1bc-8fe0e8ddc9c5",
   "metadata": {},
   "outputs": [
    {
     "data": {
      "text/plain": [
       "Array([[467,  95,  37, ...,   0,   0,   6],\n",
       "       [ 95, 369,  47, ...,   0,   6,   0],\n",
       "       [ 37,  47, 212, ...,   0,   0,   6],\n",
       "       ...,\n",
       "       [  0,   0,   0, ...,  36,   0,   0],\n",
       "       [  0,   6,   0, ...,   0,  36,   0],\n",
       "       [  6,   0,   6, ...,   0,   0,  36]], dtype=uint32)"
      ]
     },
     "execution_count": 294,
     "metadata": {},
     "output_type": "execute_result"
    }
   ],
   "source": [
    "vos_miner_res.cooccurences_mat"
   ]
  },
  {
   "cell_type": "code",
   "execution_count": 296,
   "id": "a6e09fe3-8024-4dee-826c-87af82885751",
   "metadata": {},
   "outputs": [
    {
     "data": {
      "text/plain": [
       "['china',\n",
       " 'carbon emission',\n",
       " 'digital economy',\n",
       " 'panel data',\n",
       " 'theory',\n",
       " 'definition',\n",
       " 'digital infrastructure',\n",
       " 'skill',\n",
       " 'green innovation',\n",
       " 'long term',\n",
       " 'empirical result',\n",
       " 'woman',\n",
       " 'green technology innovation',\n",
       " 'smart manufacturing',\n",
       " 'positive effect',\n",
       " 'prefecture-level city',\n",
       " 'robustness test',\n",
       " 'spatial spillover effect',\n",
       " 'digital divide',\n",
       " 'industrial structure',\n",
       " 'mechanism analysis',\n",
       " 'urban agglomeration',\n",
       " 'emission reduction',\n",
       " 'green development',\n",
       " 'extent',\n",
       " 'digital finance',\n",
       " 'bangladesh',\n",
       " 'carbon emission reduction',\n",
       " 'construction material',\n",
       " 'carbon',\n",
       " 'chinese city',\n",
       " 'cps',\n",
       " 'resource-based city',\n",
       " 'demolition waste',\n",
       " 'green finance',\n",
       " 'poverty alleviation',\n",
       " 'energy conservation',\n",
       " 'dic',\n",
       " 'smart city construction',\n",
       " 'law',\n",
       " 'resource curse',\n",
       " 'carbon emission efficiency',\n",
       " 'clean energy development',\n",
       " 'teacher',\n",
       " 'dilemma',\n",
       " 'energy security',\n",
       " 'ict sector',\n",
       " 'gde',\n",
       " 'unit',\n",
       " 'cdw',\n",
       " 'digital government',\n",
       " ']',\n",
       " 'urban digital transformation',\n",
       " 'professional development',\n",
       " 'financing constraint',\n",
       " 'long-term effect',\n",
       " 'urban green economic efficiency',\n",
       " 'green development efficiency',\n",
       " 'mpo',\n",
       " 'social inequality',\n",
       " 'osc',\n",
       " 'regional eco-innovation',\n",
       " 'highway',\n",
       " 'dcs',\n",
       " 'micrm',\n",
       " 'smallholder farmer',\n",
       " 'die',\n",
       " 'hsm',\n",
       " 'psc',\n",
       " 'lcsa',\n",
       " 'rap aggregate',\n",
       " 'virgin',\n",
       " 'knowledge intermediation',\n",
       " 'regional collaborative innovation',\n",
       " 'dci',\n",
       " 'blockchain adoption',\n",
       " 'smart-hybrid supercapacitors',\n",
       " 'industrial digitalization',\n",
       " 'gee',\n",
       " 'diagg',\n",
       " 'homogeneity',\n",
       " 'economic digitalization',\n",
       " 'gbrss',\n",
       " 'sirs',\n",
       " 'animal',\n",
       " 'di',\n",
       " 'social medium usage',\n",
       " 'innovation capability',\n",
       " 'construction enterprise',\n",
       " 'cee',\n",
       " 'high-quality green development',\n",
       " 'firm green innovation',\n",
       " 'ict development',\n",
       " 'low-carbon consumption',\n",
       " 'dm']"
      ]
     },
     "execution_count": 296,
     "metadata": {},
     "output_type": "execute_result"
    }
   ],
   "source": [
    "vos_miner_res.relevant_terms[\"term\"].to_list()"
   ]
  }
 ],
 "metadata": {
  "kernelspec": {
   "display_name": "Python 3 (ipykernel)",
   "language": "python",
   "name": "python3"
  },
  "language_info": {
   "codemirror_mode": {
    "name": "ipython",
    "version": 3
   },
   "file_extension": ".py",
   "mimetype": "text/x-python",
   "name": "python",
   "nbconvert_exporter": "python",
   "pygments_lexer": "ipython3",
   "version": "3.12.2"
  }
 },
 "nbformat": 4,
 "nbformat_minor": 5
}
