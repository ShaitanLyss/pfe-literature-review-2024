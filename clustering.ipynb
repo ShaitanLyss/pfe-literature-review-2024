{
 "cells": [
  {
   "cell_type": "markdown",
   "id": "92306e2e-0370-4c1d-9216-add67d684af4",
   "metadata": {},
   "source": [
    "# Clustering of selected terms in corpus\n",
    "## Abstract\n",
    "Clustering terms from a corpus involves grouping similar or related terms together. This process aims to highlight significant concepts within the corpus and their interconnections.\n",
    "It constitutes the second phase of content analysis and follows the ['text_mining'](./text_mining.ipynb) notebook.\n",
    "\n",
    "Similarly, we shall first reproduce the method used by the software VOSviewer, which is the standard for content analysis on a corpus of documents, here scientific papers. We then move on to exploring new strategies inspired by recent developments in AI, for instance embeddings.\n",
    "\n",
    "According to [VOSviewer publications](https://www.vosviewer.com/publications#technical-publications), the [association strength metric](http://dx.doi.org/10.1002/asi.21075) is used to normalize the binary cooccurence matrix (of keywords, authors...). Once normalized, the [VOS](http://dx.doi.org/10.1007/978-3-540-70981-7_34) (visualization of simalirty) clustering method is applied.\n",
    "\n",
    "## Disclaimer\n",
    "It wasn't my part of the work and since my partner decided to abandon me whitout any notice, the project is a mess because it was supposed to be a team project, and I had to work on this a day prior to the deadline. An helpful reminder that better alone than in bad company. If there is a mismatch in motivation, work ehtics and ambitions, it will go sour. It wasn't for a lack of trying, I set up a drive for shared documents, a GitHub for collaborative work, and shared my progress.  I've even tried to establish aggrements on shared deadlines.\n",
    "\n",
    "What were the results of my attempts ? Not a single document from my partner, not a single git commit, no words of progress, only of \"couldn't work I was doing something else\". What about the shared deadlines ? He didn't give a care and didn't even tell me that he hadn't done anything or couldn't make it without me reaching for him. \n",
    "\n",
    "It is true that I did not come to school very often, as I feel mentally bad at this specific school, but we could have tried to setup other places to meet. There were other solutions than just abandonning me without a word leaving me stuck and worried.\n",
    "\n"
   ]
  },
  {
   "cell_type": "markdown",
   "id": "76ff07f1-1133-4032-ac93-c33bfd53ecba",
   "metadata": {},
   "source": [
    "## Dependencies"
   ]
  },
  {
   "cell_type": "code",
   "execution_count": 1,
   "id": "3c11fd09-2716-4272-bacf-a440507ba66f",
   "metadata": {},
   "outputs": [],
   "source": [
    "# reloading python scripts\n",
    "import importlib\n",
    "\n",
    "# utils\n",
    "import utils\n",
    "importlib.reload(utils)\n",
    "from utils import scan_df, write_df, read_df\n",
    "\n",
    "# performant multidimensional array computation\n",
    "import jax.numpy as jnp\n",
    "import jax\n",
    "import numpy as np\n",
    "\n",
    "import scipy\n",
    "\n",
    "# performant dataframes\n",
    "import polars as pl"
   ]
  },
  {
   "cell_type": "code",
   "execution_count": 2,
   "id": "a1e99065-3503-4716-bdc0-53567b7e15ca",
   "metadata": {},
   "outputs": [
    {
     "name": "stdout",
     "output_type": "stream",
     "text": [
      "Exception reporting mode: Minimal\n"
     ]
    }
   ],
   "source": [
    "# Notebook Config\n",
    "%xmode Minimal"
   ]
  },
  {
   "cell_type": "markdown",
   "id": "b6812416-5327-40c7-ab52-5d0713f03942",
   "metadata": {},
   "source": [
    "## Applying VOSviewer text mining\n",
    "We apply the text mining implemented by VOSviewer for extracting relevant terms from a corpus. The method is described in the ['text_mining'](./text_mining.ipynb) notebook.\n",
    "\n",
    "The `text_mining.vos_viewer` method returns both the coocurence matrix of relevant terms and a dataframe describing those relevants terms."
   ]
  },
  {
   "cell_type": "code",
   "execution_count": 3,
   "id": "2d8e1935-94ff-48f7-b932-c161b2c406fa",
   "metadata": {},
   "outputs": [
    {
     "name": "stderr",
     "output_type": "stream",
     "text": [
      "Identifying terms...\n",
      "Done in 1e+01s.\n",
      "Computing relevant terms...\n",
      "Done in 3.4s.\n"
     ]
    }
   ],
   "source": [
    "import text_mining\n",
    "importlib.reload(text_mining)\n",
    "\n",
    "vos_miner_res = text_mining.vos_viewer(\n",
    "    scan_df(\"papers\"), \n",
    "    doc_id=\"Id\",\n",
    "    text_cols=[\n",
    "        \"Subject\",\n",
    "        \"Abstract\",\n",
    "        \"Keywords\"\n",
    "    ],\n",
    "    binary_occurences=True,\n",
    "    relevance_threshold=0\n",
    ")\n",
    "write_df(\"relevant_terms\", vos_miner_res.relevant_terms)"
   ]
  },
  {
   "cell_type": "markdown",
   "id": "23b48fea-30d0-4f88-a4a1-d934a49b6004",
   "metadata": {},
   "source": [
    "### Relevant terms dataframe"
   ]
  },
  {
   "cell_type": "code",
   "execution_count": 4,
   "id": "953ee6c2-ccab-43b6-9a47-c79241ed98a9",
   "metadata": {
    "scrolled": true
   },
   "outputs": [
    {
     "data": {
      "text/html": [
       "<div><style>\n",
       ".dataframe > thead > tr,\n",
       ".dataframe > tbody > tr {\n",
       "  text-align: right;\n",
       "  white-space: pre-wrap;\n",
       "}\n",
       "</style>\n",
       "<small>shape: (877, 6)</small><table border=\"1\" class=\"dataframe\"><thead><tr><th>id</th><th>term</th><th>doc_ids</th><th>count</th><th>paper_count</th><th>relevance</th></tr><tr><td>u32</td><td>str</td><td>list[i64]</td><td>u32</td><td>u32</td><td>f32</td></tr></thead><tbody><tr><td>830</td><td>&quot;rap aggregate&quot;</td><td>[470, 470, … 470]</td><td>8</td><td>1</td><td>0.108802</td></tr><tr><td>840</td><td>&quot;homogeneity&quot;</td><td>[470, 470, … 470]</td><td>7</td><td>1</td><td>0.108802</td></tr><tr><td>841</td><td>&quot;virgin&quot;</td><td>[470, 470, … 470]</td><td>7</td><td>1</td><td>0.108802</td></tr><tr><td>862</td><td>&quot;dm&quot;</td><td>[216, 216, … 216]</td><td>6</td><td>1</td><td>0.090614</td></tr><tr><td>870</td><td>&quot;social licence&quot;</td><td>[29, 29, … 29]</td><td>6</td><td>1</td><td>0.08313</td></tr><tr><td>&hellip;</td><td>&hellip;</td><td>&hellip;</td><td>&hellip;</td><td>&hellip;</td><td>&hellip;</td></tr><tr><td>123</td><td>&quot;improvement&quot;</td><td>[299, 112, … 373]</td><td>24</td><td>23</td><td>0.049976</td></tr><tr><td>1</td><td>&quot;study&quot;</td><td>[169, 219, … 298]</td><td>306</td><td>191</td><td>0.049864</td></tr><tr><td>113</td><td>&quot;carbon emission&quot;</td><td>[487, 171, … 171]</td><td>55</td><td>24</td><td>0.049744</td></tr><tr><td>24</td><td>&quot;impact&quot;</td><td>[238, 357, … 173]</td><td>94</td><td>66</td><td>0.049711</td></tr><tr><td>101</td><td>&quot;level&quot;</td><td>[185, 23, … 244]</td><td>31</td><td>27</td><td>0.049274</td></tr></tbody></table></div>"
      ],
      "text/plain": [
       "shape: (877, 6)\n",
       "┌─────┬─────────────────┬───────────────────┬───────┬─────────────┬───────────┐\n",
       "│ id  ┆ term            ┆ doc_ids           ┆ count ┆ paper_count ┆ relevance │\n",
       "│ --- ┆ ---             ┆ ---               ┆ ---   ┆ ---         ┆ ---       │\n",
       "│ u32 ┆ str             ┆ list[i64]         ┆ u32   ┆ u32         ┆ f32       │\n",
       "╞═════╪═════════════════╪═══════════════════╪═══════╪═════════════╪═══════════╡\n",
       "│ 830 ┆ rap aggregate   ┆ [470, 470, … 470] ┆ 8     ┆ 1           ┆ 0.108802  │\n",
       "│ 840 ┆ homogeneity     ┆ [470, 470, … 470] ┆ 7     ┆ 1           ┆ 0.108802  │\n",
       "│ 841 ┆ virgin          ┆ [470, 470, … 470] ┆ 7     ┆ 1           ┆ 0.108802  │\n",
       "│ 862 ┆ dm              ┆ [216, 216, … 216] ┆ 6     ┆ 1           ┆ 0.090614  │\n",
       "│ 870 ┆ social licence  ┆ [29, 29, … 29]    ┆ 6     ┆ 1           ┆ 0.08313   │\n",
       "│ …   ┆ …               ┆ …                 ┆ …     ┆ …           ┆ …         │\n",
       "│ 123 ┆ improvement     ┆ [299, 112, … 373] ┆ 24    ┆ 23          ┆ 0.049976  │\n",
       "│ 1   ┆ study           ┆ [169, 219, … 298] ┆ 306   ┆ 191         ┆ 0.049864  │\n",
       "│ 113 ┆ carbon emission ┆ [487, 171, … 171] ┆ 55    ┆ 24          ┆ 0.049744  │\n",
       "│ 24  ┆ impact          ┆ [238, 357, … 173] ┆ 94    ┆ 66          ┆ 0.049711  │\n",
       "│ 101 ┆ level           ┆ [185, 23, … 244]  ┆ 31    ┆ 27          ┆ 0.049274  │\n",
       "└─────┴─────────────────┴───────────────────┴───────┴─────────────┴───────────┘"
      ]
     },
     "execution_count": 4,
     "metadata": {},
     "output_type": "execute_result"
    }
   ],
   "source": [
    "(\n",
    "    vos_miner_res.relevant_terms\n",
    "    .sort(\"relevance\", descending=True)\n",
    ")"
   ]
  },
  {
   "cell_type": "markdown",
   "id": "727072e0-fa27-440e-80c7-f54323e16120",
   "metadata": {},
   "source": [
    "### Relevant terms co-occurences\n",
    "The co-occurence matrix described in [_How to normalize cooccurence data ?_](http://dx.doi.org/10.1002/asi.21075) is made from a binary occurence matrix. As we used a non binary occurence matrix in the text_mining.vosviewer method, let's get one here and then compute the coocurrence matrix.\n",
    "\n",
    "#### Binary occurences matrix\n",
    "The rows are the terms and the columns are the papers."
   ]
  },
  {
   "cell_type": "code",
   "execution_count": 5,
   "id": "37334c13-02e3-451a-b384-c9b09f4ff890",
   "metadata": {},
   "outputs": [
    {
     "data": {
      "text/html": [
       "<div><style>\n",
       ".dataframe > thead > tr,\n",
       ".dataframe > tbody > tr {\n",
       "  text-align: right;\n",
       "  white-space: pre-wrap;\n",
       "}\n",
       "</style>\n",
       "<small>shape: (266, 6)</small><table border=\"1\" class=\"dataframe\"><thead><tr><th>id</th><th>term</th><th>doc_ids</th><th>count</th><th>paper_count</th><th>relevance</th></tr><tr><td>u32</td><td>str</td><td>list[i64]</td><td>u32</td><td>u32</td><td>f32</td></tr></thead><tbody><tr><td>19</td><td>&quot;internet&quot;</td><td>[365, 53, … 437]</td><td>112</td><td>70</td><td>0.059411</td></tr><tr><td>35</td><td>&quot;iot&quot;</td><td>[216, 322, … 477]</td><td>78</td><td>53</td><td>0.062069</td></tr><tr><td>51</td><td>&quot;thing&quot;</td><td>[188, 149, … 77]</td><td>51</td><td>43</td><td>0.06206</td></tr><tr><td>54</td><td>&quot;things&quot;</td><td>[35, 98, … 178]</td><td>50</td><td>42</td><td>0.064057</td></tr><tr><td>132</td><td>&quot;ai&quot;</td><td>[289, 201, … 201]</td><td>41</td><td>21</td><td>0.059994</td></tr><tr><td>&hellip;</td><td>&hellip;</td><td>&hellip;</td><td>&hellip;</td><td>&hellip;</td><td>&hellip;</td></tr><tr><td>757</td><td>&quot;cultural heritage&quot;</td><td>[59, 59, … 495]</td><td>6</td><td>3</td><td>0.059305</td></tr><tr><td>697</td><td>&quot;structural element&quot;</td><td>[266, 409, … 73]</td><td>6</td><td>5</td><td>0.059212</td></tr><tr><td>766</td><td>&quot;generation&quot;</td><td>[423, 126, … 423]</td><td>6</td><td>3</td><td>0.059155</td></tr><tr><td>607</td><td>&quot;key factor&quot;</td><td>[23, 316, … 507]</td><td>6</td><td>6</td><td>0.059058</td></tr><tr><td>811</td><td>&quot;hbim&quot;</td><td>[96, 96, … 96]</td><td>6</td><td>2</td><td>0.059043</td></tr></tbody></table></div>"
      ],
      "text/plain": [
       "shape: (266, 6)\n",
       "┌─────┬────────────────────┬───────────────────┬───────┬─────────────┬───────────┐\n",
       "│ id  ┆ term               ┆ doc_ids           ┆ count ┆ paper_count ┆ relevance │\n",
       "│ --- ┆ ---                ┆ ---               ┆ ---   ┆ ---         ┆ ---       │\n",
       "│ u32 ┆ str                ┆ list[i64]         ┆ u32   ┆ u32         ┆ f32       │\n",
       "╞═════╪════════════════════╪═══════════════════╪═══════╪═════════════╪═══════════╡\n",
       "│ 19  ┆ internet           ┆ [365, 53, … 437]  ┆ 112   ┆ 70          ┆ 0.059411  │\n",
       "│ 35  ┆ iot                ┆ [216, 322, … 477] ┆ 78    ┆ 53          ┆ 0.062069  │\n",
       "│ 51  ┆ thing              ┆ [188, 149, … 77]  ┆ 51    ┆ 43          ┆ 0.06206   │\n",
       "│ 54  ┆ things             ┆ [35, 98, … 178]   ┆ 50    ┆ 42          ┆ 0.064057  │\n",
       "│ 132 ┆ ai                 ┆ [289, 201, … 201] ┆ 41    ┆ 21          ┆ 0.059994  │\n",
       "│ …   ┆ …                  ┆ …                 ┆ …     ┆ …           ┆ …         │\n",
       "│ 757 ┆ cultural heritage  ┆ [59, 59, … 495]   ┆ 6     ┆ 3           ┆ 0.059305  │\n",
       "│ 697 ┆ structural element ┆ [266, 409, … 73]  ┆ 6     ┆ 5           ┆ 0.059212  │\n",
       "│ 766 ┆ generation         ┆ [423, 126, … 423] ┆ 6     ┆ 3           ┆ 0.059155  │\n",
       "│ 607 ┆ key factor         ┆ [23, 316, … 507]  ┆ 6     ┆ 6           ┆ 0.059058  │\n",
       "│ 811 ┆ hbim               ┆ [96, 96, … 96]    ┆ 6     ┆ 2           ┆ 0.059043  │\n",
       "└─────┴────────────────────┴───────────────────┴───────┴─────────────┴───────────┘"
      ]
     },
     "execution_count": 5,
     "metadata": {},
     "output_type": "execute_result"
    }
   ],
   "source": [
    "selected_terms = (\n",
    "        scan_df(\"relevant_terms\")\n",
    "        .sort(\"relevance\", descending=True)\n",
    "        .head(266)\n",
    "        .sort(\"count\", descending=True)\n",
    "        .collect()\n",
    ")\n",
    "write_df(\"selected_terms\", selected_terms)\n",
    "selected_terms"
   ]
  },
  {
   "cell_type": "code",
   "execution_count": 6,
   "id": "264bb423-2b8f-4fd1-83a9-b2242ca4f977",
   "metadata": {},
   "outputs": [
    {
     "data": {
      "text/plain": [
       "Array([[0, 0, 0, ..., 0, 0, 0],\n",
       "       [0, 0, 0, ..., 0, 0, 0],\n",
       "       [0, 0, 0, ..., 0, 0, 0],\n",
       "       ...,\n",
       "       [0, 0, 0, ..., 0, 0, 0],\n",
       "       [0, 0, 0, ..., 0, 0, 0],\n",
       "       [0, 0, 0, ..., 0, 0, 0]], dtype=uint32)"
      ]
     },
     "execution_count": 6,
     "metadata": {},
     "output_type": "execute_result"
    }
   ],
   "source": [
    "import text_mining\n",
    "importlib.reload(text_mining)\n",
    "binary_occ = text_mining.get_mat_from_association_df(params=text_mining.AssociationDfParams(\n",
    "    df=(\n",
    "        scan_df(\"selected_terms\")\n",
    "        .with_columns(pl.arange(0, pl.len()).alias(\"id\"))\n",
    "        .explode(\"doc_ids\")\n",
    "        .rename({\"doc_ids\": \"other_id\"})\n",
    "        .collect()\n",
    "    ),\n",
    "    binary=True\n",
    "))\n",
    "binary_occ"
   ]
  },
  {
   "cell_type": "markdown",
   "id": "73521f1c-2cd0-4d9f-8687-b68b24d4894e",
   "metadata": {},
   "source": [
    "#### Co-occurences matrix\n",
    "To get the co-occurences and the total occurences matrix $C$, we can simply multiply the binary occurence matrix $O$ with its transpose $O^T$.\n",
    "\n",
    "Co-occurence matrix : $\\mathbf{C} = \\mathbf{O}\\mathbf{O}^T$"
   ]
  },
  {
   "cell_type": "code",
   "execution_count": 7,
   "id": "7ac017d4-a2b9-42e0-bb3d-8906c94d1312",
   "metadata": {},
   "outputs": [
    {
     "name": "stdout",
     "output_type": "stream",
     "text": [
      "(266, 266)\n"
     ]
    },
    {
     "data": {
      "text/plain": [
       "Array([[70, 44, 39, ...,  0,  0,  0],\n",
       "       [44, 53, 28, ...,  0,  0,  0],\n",
       "       [39, 28, 43, ...,  0,  0,  0],\n",
       "       ...,\n",
       "       [ 0,  0,  0, ...,  3,  0,  0],\n",
       "       [ 0,  0,  0, ...,  0,  6,  0],\n",
       "       [ 0,  0,  0, ...,  0,  0,  2]], dtype=uint32)"
      ]
     },
     "execution_count": 7,
     "metadata": {},
     "output_type": "execute_result"
    }
   ],
   "source": [
    "cooc = text_mining.get_cooccurences(binary_occ)\n",
    "print(cooc.shape)\n",
    "cooc"
   ]
  },
  {
   "cell_type": "markdown",
   "id": "ff5b0487-db11-4c46-9d74-1770d6ed84da",
   "metadata": {},
   "source": [
    "## Normalization using assocation strength\n",
    "According to [_How to normalize cooccurence data ?_](http://dx.doi.org/10.1002/asi.21075), association strength is the best metric to use for normalizing based on similarity as it is a probabilistic similarity measure.\n",
    "\n",
    "For instance, other popular metrics like cosine distance, Jaccard index or inclusion index are not recommended because they are set-theoretic similarity measures.\n",
    "\n",
    "Other papers confirm that association strength was the metric used for VOSviewer."
   ]
  },
  {
   "cell_type": "markdown",
   "id": "b1b31d11-fed4-4dab-8ee5-21204b0732b7",
   "metadata": {},
   "source": [
    "### Association strength similarity measure\n",
    "According to [A unified approach to mapping and clustering](https://arxiv.org/pdf/1006.1032).\n",
    "#### Definition\n",
    "$$s_{ij} = \\frac{2mc_{ij}}{c_i c_j}$$\n",
    "\n",
    "<div style=\"text-align: right\">\n",
    "    where $c_i$ is the total number of occurences of term $i$<br>\n",
    "    $m$ the total number of links in the network\n",
    "</div>\n",
    "\n",
    "#### Interpretation\n",
    "This measure is the ratio of the constated cooccurences $c_{ij}$ and the expected cooccurences ${c_i c_j}$ if both terms are statistically independent. "
   ]
  },
  {
   "cell_type": "markdown",
   "id": "89d4f047-d276-487d-bc6b-80b5b6281176",
   "metadata": {},
   "source": [
    "#### Testing different implementations"
   ]
  },
  {
   "cell_type": "code",
   "execution_count": 8,
   "id": "063d6aa3-767d-4cfc-9b1c-966c5385b7c7",
   "metadata": {},
   "outputs": [],
   "source": [
    "def association_strength_naive(a):\n",
    "    n = a.shape[0]\n",
    "    res = np.empty((n, n))\n",
    "    for i, j in np.ndindex((n,n)):\n",
    "        res[i,j] = a[i, j] / (a[i, i] * a[j, j])\n",
    "    return np.sum(a.diagonal()) * res\n",
    "\n",
    "def association_strength_numpy(a):\n",
    "    diagonal = np.diagonal(a)\n",
    "    denominator = np.outer(diagonal, diagonal)\n",
    "    res = a / denominator\n",
    "    return np.sum(diagonal) * res\n",
    "\n",
    "@jax.jit\n",
    "def association_strength_jax(a):\n",
    "    diagonal = jnp.diagonal(a)\n",
    "    denominator = jnp.outer(diagonal, diagonal)\n",
    "    res = a / denominator\n",
    "    return jnp.sum(diagonal) * res"
   ]
  },
  {
   "cell_type": "code",
   "execution_count": 9,
   "id": "7ab18469-b133-4d8b-a49f-774b322debd5",
   "metadata": {},
   "outputs": [
    {
     "name": "stdout",
     "output_type": "stream",
     "text": [
      "naive:\t 16.617703\n",
      "numpy:\t 0.15355950000000007\n",
      "jax:\t 0.05735140000000172\n",
      "same res True\n",
      "same res True\n"
     ]
    }
   ],
   "source": [
    "# association_strength()\n",
    "n = 4005\n",
    "m = np.random.rand(n, n)\n",
    "# print(m)\n",
    "from time import  process_time\n",
    "t0 = process_time()\n",
    "naive = association_strength_naive(m)\n",
    "print(\"naive:\\t\", process_time() - t0)\n",
    "t0 = process_time()\n",
    "good = association_strength_numpy(m)\n",
    "print(\"numpy:\\t\", process_time() - t0)\n",
    "m = jnp.array(m)\n",
    "t0 = process_time()\n",
    "jx = association_strength_jax(m)\n",
    "print(\"jax:\\t\", process_time() - t0)\n",
    "\n",
    "print(\"same res\", bool(jnp.allclose(good, jx)))\n",
    "print(\"same res\", bool(jnp.allclose(good, naive)))\n",
    "# print(association_strength_bad(m))\n",
    "\n",
    "# print(association_strength(m))"
   ]
  },
  {
   "cell_type": "markdown",
   "id": "3a3cadb7-6932-4e22-9c8a-242e5d812ef0",
   "metadata": {},
   "source": [
    "#### Results\n",
    "According to different tests, the naive version performs way worse than good versions taking advantage of the strengths of numpy or jax. As for the comparison between numpy and jax, jax performs better as the matrixes scales but it includes a first time compilation fee for different sizes of arrays.\n",
    "\n",
    "Therefore, it is better to use numpy for small varying sizes like we have here at the moment (the size depends on the relevance threshold and dataset).\n",
    "\n",
    "It is important to note that those tests were made with a gpu for jax. In the end, let's use numpy as it's consitently fast and has better support for different architectures."
   ]
  },
  {
   "cell_type": "code",
   "execution_count": 10,
   "id": "90af0d62-94dc-4b44-9629-41cb1d48ab20",
   "metadata": {},
   "outputs": [],
   "source": [
    "association_strength = association_strength_numpy"
   ]
  },
  {
   "cell_type": "markdown",
   "id": "bea124e9-7cf5-4ddf-abde-7a670acde838",
   "metadata": {},
   "source": [
    "### Using the association strength for normalization\n",
    "Our goal was to use a good metric for measuring similarity, because directly using cooccurences is subject to the size effect. That is, more frequently occuring terms could have a high number of cooccurences not because they are similar, but because they happen very often.\n",
    "\n",
    "#### Cooccurence matrix"
   ]
  },
  {
   "cell_type": "code",
   "execution_count": 11,
   "id": "a84971a9-aaf2-4f29-ba6b-417aed85f354",
   "metadata": {},
   "outputs": [
    {
     "data": {
      "text/plain": [
       "array([[70, 44, 39, ...,  0,  0,  0],\n",
       "       [44, 53, 28, ...,  0,  0,  0],\n",
       "       [39, 28, 43, ...,  0,  0,  0],\n",
       "       ...,\n",
       "       [ 0,  0,  0, ...,  3,  0,  0],\n",
       "       [ 0,  0,  0, ...,  0,  6,  0],\n",
       "       [ 0,  0,  0, ...,  0,  0,  2]], dtype=uint32)"
      ]
     },
     "execution_count": 11,
     "metadata": {},
     "output_type": "execute_result"
    }
   ],
   "source": [
    "cooc = np.array(cooc)  # ensure array is numpy and not jax\n",
    "cooc"
   ]
  },
  {
   "cell_type": "markdown",
   "id": "0bee6080-fc89-4294-8cd2-7d9d24217127",
   "metadata": {},
   "source": [
    "#### Similarity matrix\n",
    "We get our final similarity matrix by applying the association strength and making diagonal terms 0."
   ]
  },
  {
   "cell_type": "code",
   "execution_count": 12,
   "id": "7bb0623a-883a-4440-bab7-a42a4fb6e712",
   "metadata": {},
   "outputs": [
    {
     "data": {
      "text/plain": [
       "array([[ 0.        , 17.3509434 , 18.95581395, ...,  0.        ,\n",
       "         0.        ,  0.        ],\n",
       "       [17.3509434 ,  0.        , 17.97455024, ...,  0.        ,\n",
       "         0.        ,  0.        ],\n",
       "       [18.95581395, 17.97455024,  0.        , ...,  0.        ,\n",
       "         0.        ,  0.        ],\n",
       "       ...,\n",
       "       [ 0.        ,  0.        ,  0.        , ...,  0.        ,\n",
       "         0.        ,  0.        ],\n",
       "       [ 0.        ,  0.        ,  0.        , ...,  0.        ,\n",
       "         0.        ,  0.        ],\n",
       "       [ 0.        ,  0.        ,  0.        , ...,  0.        ,\n",
       "         0.        ,  0.        ]])"
      ]
     },
     "execution_count": 12,
     "metadata": {},
     "output_type": "execute_result"
    }
   ],
   "source": [
    "similarity = association_strength(cooc)\n",
    "np.fill_diagonal(similarity, 0)\n",
    "similarity"
   ]
  },
  {
   "cell_type": "markdown",
   "id": "3dc0cd7c-baad-4170-aba1-64256e5a8371",
   "metadata": {},
   "source": [
    "#### Most similar terms\n",
    "Let's take a quick look at the most similar terms according to our similarity matrix for a sanity check."
   ]
  },
  {
   "cell_type": "code",
   "execution_count": 13,
   "id": "b1af01ed-3697-44bc-b4f5-06e0bda1bca5",
   "metadata": {},
   "outputs": [
    {
     "name": "stdout",
     "output_type": "stream",
     "text": [
      "similarity 1463.0\n",
      "terms ['social inequality' 'dci']\n"
     ]
    }
   ],
   "source": [
    "argmax = np.unravel_index(np.argmax(similarity),  similarity.shape)\n",
    "terms = read_df(\"selected_terms\")[\"term\"].to_numpy()\n",
    "print(\"similarity\", similarity[argmax])\n",
    "print(\"terms\", terms[argmax,])"
   ]
  },
  {
   "cell_type": "markdown",
   "id": "3cb17041-ddfa-409e-b446-9eb337183141",
   "metadata": {},
   "source": [
    "The most similar terms out of the relevant terms of the dataset are *dci* and _social inequality_. Let's investigate what dci is in our context and why they are at the highest similarity."
   ]
  },
  {
   "cell_type": "code",
   "execution_count": 14,
   "id": "fd939a43-ed52-497e-ba92-bda98e08a8c4",
   "metadata": {},
   "outputs": [
    {
     "data": {
      "text/plain": [
       "'Abstract: Digital consumption innovation (DCI) provides an opportunity for the low-carbon transformation of daily consumption activities. However, the social inequality generated by the social-technic'"
      ]
     },
     "execution_count": 14,
     "metadata": {},
     "output_type": "execute_result"
    }
   ],
   "source": [
    "(\n",
    "    scan_df(\"papers\")\n",
    "    .select(\"Abstract\", \"Keywords\")\n",
    "    .filter(pl.col(\"Abstract\").str.contains(\"(?i)dci\"))\n",
    ").collect()[0,0][:200]"
   ]
  },
  {
   "cell_type": "markdown",
   "id": "86e02483-a2ec-4550-8bc8-e88522bbc682",
   "metadata": {},
   "source": [
    "We get a similarity of one because both terms only appear together in this paper. We observe no obvious issue with our computation."
   ]
  },
  {
   "cell_type": "markdown",
   "id": "1c1a0902-95b3-4ee1-87e8-56c39dfaef62",
   "metadata": {},
   "source": [
    "## VOS Clustering\n",
    "Now that we have a similarity matrix $\\mathbf{S}$, we can move on to applying VOS to cluster terms as described in [VOS: a new method for visualizing similarities between objects (2007)](http://dx.doi.org/10.1007/978-3-540-70981-7_34). It establishes that the proximity between objects is proportional to their similarity.\n",
    "\n",
    "> The idea of VOS is to minimize a weighted sum of the squared distances between all pairs of objects. The higher the similarity between two objects, the higher the weight of their squared distance in the summation.\n",
    ">\n",
    "> To avoid solutions in which all objects are located at the same coordinates, the constraint is imposed that the sum of all distances must equal some positive constant.\n",
    "\n",
    "Let $\\mathbf{X}$ be a matrix whose rows are the coordinates of the objects. The objective function to minimize is\n",
    "$$ E(\\mathbf{X};\\mathbf{S}) = \\sum_{i < j}s_{ij}||x_i - x_j||^2 - \\sum_{i<j}||x_i - x_j||$$\n",
    "\n",
    "with the following constraint\n",
    "$$ \\sum_{i<j}||x_i - x_j|| = 1 $$"
   ]
  },
  {
   "cell_type": "code",
   "execution_count": 15,
   "id": "89af9e5d-b6b3-414a-a8ec-8d4f52dc751c",
   "metadata": {},
   "outputs": [],
   "source": [
    "from scipy.spatial.distance import cdist\n",
    "\n",
    "def f1(x, s):\n",
    "    n = x.shape[0]\n",
    "    res = 0\n",
    "    for i in range(n):\n",
    "        for j in range(i, n):\n",
    "           res += s[i,j] * ((x[i] - x[j])**2).sum() - np.linalg.norm(x[i] - x[j])\n",
    "    return res\n",
    "\n",
    "\n",
    "def f2(x, s):\n",
    "    d = cdist(x,x)\n",
    "    return np.sum(np.triu(s) * d**2) - np.sum(np.triu(d))\n",
    "\n",
    "@jax.jit\n",
    "def f3(x, s):\n",
    "    return jnp.sum(jnp.triu(s) * cdist(x, x)**2)\n",
    "    \n",
    "# scipy.optimize.minimize(\n",
    "# objective()\n"
   ]
  },
  {
   "cell_type": "code",
   "execution_count": 16,
   "id": "00e61a2a-3c8f-42d3-b2a9-aba6a9f8cc6f",
   "metadata": {},
   "outputs": [
    {
     "name": "stdout",
     "output_type": "stream",
     "text": [
      "sanity_check :  True\n"
     ]
    }
   ],
   "source": [
    "n = similarity.shape[0]  # number of objects\n",
    "p = 2  # euclidian space dims\n",
    "\n",
    "s = similarity\n",
    "# x = np.random.rand(n * p).reshape(n,p)\n",
    "x = np.arange(n * p).reshape(n,p)\n",
    "\n",
    "x_jax = jnp.array(x)\n",
    "s_jax = jnp.array(s)\n",
    "\n",
    "sanity_check = np.allclose(f1(x,s), f2(x,s))\n",
    "print(\"sanity_check : \", sanity_check)"
   ]
  },
  {
   "cell_type": "code",
   "execution_count": 17,
   "id": "ebc99687-5cee-472c-9f72-913aec4f1d03",
   "metadata": {},
   "outputs": [
    {
     "name": "stdout",
     "output_type": "stream",
     "text": [
      "367 ms ± 10.9 ms per loop (mean ± std. dev. of 7 runs, 1 loop each)\n",
      "558 µs ± 42.2 µs per loop (mean ± std. dev. of 7 runs, 1,000 loops each)\n"
     ]
    }
   ],
   "source": [
    "%timeit f1(x, s)\n",
    "%timeit f2(x, s)\n",
    "# %timeit f3(x_jax, s_jax)"
   ]
  },
  {
   "cell_type": "markdown",
   "id": "1122f890-290c-49aa-8cd4-ba8f3a292910",
   "metadata": {},
   "source": [
    "#### Constraint\n",
    "$$ \\sum_{i<j}||x_i - x_j|| = 1 $$"
   ]
  },
  {
   "cell_type": "code",
   "execution_count": 18,
   "id": "b72bbc8b-7519-4d3c-9caa-836a10a2d394",
   "metadata": {},
   "outputs": [],
   "source": [
    "def constraint(x):\n",
    "    m = x.reshape(n,p)\n",
    "    return np.sum(np.triu(cdist(m, m))) - 1"
   ]
  },
  {
   "cell_type": "code",
   "execution_count": 19,
   "id": "aea06974-5fb6-43eb-9923-e3e3a72a08d9",
   "metadata": {},
   "outputs": [
    {
     "name": "stdout",
     "output_type": "stream",
     "text": [
      "         Current function value: -12843.387199\n",
      "         Iterations: 10\n",
      "         Function evaluations: 6396\n",
      "         Gradient evaluations: 12\n"
     ]
    },
    {
     "name": "stderr",
     "output_type": "stream",
     "text": [
      "/home/moonlyss/conda/envs/3.12/lib/python3.12/site-packages/scipy/optimize/_minimize.py:708: OptimizeWarning: Maximum number of iterations has been exceeded.\n",
      "  res = _minimize_bfgs(fun, x0, args, jac, callback, **options)\n"
     ]
    },
    {
     "data": {
      "text/plain": [
       "  message: Maximum number of iterations has been exceeded.\n",
       "  success: False\n",
       "   status: 1\n",
       "      fun: -12843.387198625926\n",
       "        x: [ 4.929e-01 -4.801e-02 ...  1.802e+00  6.221e-01]\n",
       "      nit: 10\n",
       "      jac: [ 1.896e+02 -6.447e+01 ...  5.683e+02  3.332e+01]\n",
       " hess_inv: [[ 9.957e-01 -2.052e-05 ...  7.214e-04 -1.864e-03]\n",
       "            [-2.052e-05  9.994e-01 ...  1.297e-03  2.640e-03]\n",
       "            ...\n",
       "            [ 7.214e-04  1.297e-03 ...  9.891e-01 -2.412e-03]\n",
       "            [-1.864e-03  2.640e-03 ... -2.412e-03  1.001e+00]]\n",
       "     nfev: 6396\n",
       "     njev: 12"
      ]
     },
     "execution_count": 19,
     "metadata": {},
     "output_type": "execute_result"
    }
   ],
   "source": [
    "s = similarity\n",
    "\n",
    "n = similarity.shape[0]  # number of objects\n",
    "p = 2  # euclidian space dims\n",
    "\n",
    "def f(x):\n",
    "    return f2(x.reshape(n, p), s)\n",
    "\n",
    "# x = np.random.rand(n * p).reshape(n,p)\n",
    "x0 = np.random.rand(n * p)\n",
    "res = scipy.optimize.minimize(\n",
    "    f,\n",
    "    x0,\n",
    "    method=\"BFGS\",\n",
    "    # constraints={'type': 'eq', 'fun': constraint},\n",
    "    options={\n",
    "        'maxiter': int(1e1),\n",
    "        'disp': True\n",
    "    },\n",
    "    # tol=1e-8\n",
    ")\n",
    "res"
   ]
  },
  {
   "cell_type": "code",
   "execution_count": 20,
   "id": "f02ca4fb-e818-4dfa-8da4-7d26b82c5c00",
   "metadata": {},
   "outputs": [
    {
     "data": {
      "text/plain": [
       "array([[ 0.49289667, -0.04801248],\n",
       "       [ 0.27403007, -0.31176214],\n",
       "       [ 0.25430855, -0.3920785 ],\n",
       "       [ 0.65737857, -0.14409394],\n",
       "       [ 0.27306359,  0.03359675]])"
      ]
     },
     "execution_count": 20,
     "metadata": {},
     "output_type": "execute_result"
    }
   ],
   "source": [
    "pos = res.x.reshape(n,p)\n",
    "pos[:5]"
   ]
  },
  {
   "cell_type": "code",
   "execution_count": 23,
   "id": "7201480c-311b-4623-991e-c726c3a86869",
   "metadata": {},
   "outputs": [
    {
     "data": {
      "image/png": "[encoded data removed]",
      "text/plain": [
       "<Figure size 640x480 with 1 Axes>"
      ]
     },
     "metadata": {},
     "output_type": "display_data"
    }
   ],
   "source": [
    "import matplotlib.pyplot as plt\n",
    "%matplotlib inline\n",
    "x = pos[:,0]\n",
    "y = pos[:, 1]\n",
    "plt.plot(x, y, \"o\")\n",
    "delta = 0\n",
    "delta  = 2e-1\n",
    "labels = scan_df(\"selected_terms\").select(\"term\").collect().get_column(\"term\")\n",
    "# for i, label in enumerate(labels):\n",
    "#     plt.text(x[i], y[i] - i * delta, label)\n",
    "plt.show()"
   ]
  },
  {
   "cell_type": "code",
   "execution_count": 25,
   "id": "37ec88df-02b3-449c-b97b-ed27e9b6703d",
   "metadata": {},
   "outputs": [
    {
     "name": "stdout",
     "output_type": "stream",
     "text": [
      "Using matplotlib backend: GTK3Agg\n"
     ]
    },
    {
     "name": "stderr",
     "output_type": "stream",
     "text": [
      "/home/moonlyss/conda/envs/3.12/lib/python3.12/site-packages/ipykernel/gui/gtk3embed.py:65: RuntimeWarning: coroutine 'Kernel.do_one_iteration' was never awaited\n",
      "  self.kernel.do_one_iteration()\n",
      "RuntimeWarning: Enable tracemalloc to get the object allocation traceback\n"
     ]
    }
   ],
   "source": [
    "import matplotlib.pyplot as plt\n",
    "%matplotlib\n",
    "x = pos[:,0]\n",
    "y = pos[:, 1]\n",
    "plt.plot(x, y, \"o\")\n",
    "delta = 0\n",
    "# delta  = 2e-1\n",
    "labels = scan_df(\"selected_terms\").select(\"term\").collect().get_column(\"term\")\n",
    "for i, label in enumerate(labels):\n",
    "    plt.text(x[i], y[i] - i * delta, label)\n",
    "plt.show()"
   ]
  }
 ],
 "metadata": {
  "kernelspec": {
   "display_name": "Python 3 (ipykernel)",
   "language": "python",
   "name": "python3"
  },
  "language_info": {
   "codemirror_mode": {
    "name": "ipython",
    "version": 3
   },
   "file_extension": ".py",
   "mimetype": "text/x-python",
   "name": "python",
   "nbconvert_exporter": "python",
   "pygments_lexer": "ipython3",
   "version": "3.12.2"
  }
 },
 "nbformat": 4,
 "nbformat_minor": 5
}
