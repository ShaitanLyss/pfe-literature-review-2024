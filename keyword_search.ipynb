{
 "cells": [
  {
   "cell_type": "code",
   "execution_count": 2,
   "id": "1cb179bc-c4da-42ad-ac79-e88978dbccb6",
   "metadata": {},
   "outputs": [],
   "source": [
    "from  utils import scan_df\n",
    "import polars as pl"
   ]
  },
  {
   "cell_type": "code",
   "execution_count": 15,
   "id": "8706f801-2b1c-46ab-8964-89275709b2a8",
   "metadata": {},
   "outputs": [
    {
     "data": {
      "text/html": [
       "<div><style>\n",
       ".dataframe > thead > tr,\n",
       ".dataframe > tbody > tr {\n",
       "  text-align: right;\n",
       "  white-space: pre-wrap;\n",
       "}\n",
       "</style>\n",
       "<small>shape: (5, 3)</small><table border=\"1\" class=\"dataframe\"><thead><tr><th>keyword</th><th>paper_id</th><th>count</th></tr><tr><td>cat</td><td>list[i64]</td><td>u32</td></tr></thead><tbody><tr><td>&quot;computer aided design&quot;</td><td>[509]</td><td>1</td></tr><tr><td>&quot;computer-aided design&quot;</td><td>[467]</td><td>1</td></tr><tr><td>&quot;human-computer software&quot;</td><td>[361]</td><td>1</td></tr><tr><td>&quot;computer-aided engineering&quot;</td><td>[382]</td><td>1</td></tr><tr><td>&quot;computer&quot;</td><td>[168]</td><td>1</td></tr></tbody></table></div>"
      ],
      "text/plain": [
       "shape: (5, 3)\n",
       "┌────────────────────────────┬───────────┬───────┐\n",
       "│ keyword                    ┆ paper_id  ┆ count │\n",
       "│ ---                        ┆ ---       ┆ ---   │\n",
       "│ cat                        ┆ list[i64] ┆ u32   │\n",
       "╞════════════════════════════╪═══════════╪═══════╡\n",
       "│ computer aided design      ┆ [509]     ┆ 1     │\n",
       "│ computer-aided design      ┆ [467]     ┆ 1     │\n",
       "│ human-computer software    ┆ [361]     ┆ 1     │\n",
       "│ computer-aided engineering ┆ [382]     ┆ 1     │\n",
       "│ computer                   ┆ [168]     ┆ 1     │\n",
       "└────────────────────────────┴───────────┴───────┘"
      ]
     },
     "execution_count": 15,
     "metadata": {},
     "output_type": "execute_result"
    }
   ],
   "source": [
    "(\n",
    "    scan_df(\"papers\")\n",
    "    .explode(\"Keywords\")\n",
    "    .rename({\"Keywords\": \"keyword\", \"Id\":\"paper_id\"})\n",
    "    .select(\"keyword\", \"paper_id\")\n",
    "    .group_by(\"keyword\").agg(\"paper_id\", pl.col(\"keyword\").len().alias(\"count\"))\n",
    "    .filter(pl.col(\"keyword\").cast(pl.String).str.contains(\"(?i)computer\"))\n",
    "    .sort(\"count\", \"keyword\", descending=True)\n",
    ").collect()"
   ]
  }
 ],
 "metadata": {
  "kernelspec": {
   "display_name": "Python 3 (ipykernel)",
   "language": "python",
   "name": "python3"
  },
  "language_info": {
   "codemirror_mode": {
    "name": "ipython",
    "version": 3
   },
   "file_extension": ".py",
   "mimetype": "text/x-python",
   "name": "python",
   "nbconvert_exporter": "python",
   "pygments_lexer": "ipython3",
   "version": "3.12.2"
  }
 },
 "nbformat": 4,
 "nbformat_minor": 5
}
