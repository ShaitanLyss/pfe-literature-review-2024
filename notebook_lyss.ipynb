{
 "cells": [
  {
   "cell_type": "code",
   "execution_count": 5,
   "id": "87838e34-9e32-4212-bd45-5591c661656b",
   "metadata": {},
   "outputs": [],
   "source": [
    "import polars as pl\n",
    "import importlib\n",
    "import numpy as np\n",
    "import lyss\n",
    "importlib.reload(lyss)\n",
    "from lyss import get_keywords_cooccurrences\n",
    "from itertools import combinations\n",
    "import os\n",
    "def df(name: str) -> str:\n",
    "    return os.path.join(\"dataframes\", name + \".parquet\") \n",
    "bim_dataset_path = \"bim_dataset.xlsx\""
   ]
  },
  {
   "cell_type": "markdown",
   "id": "8c379599-7f18-4535-8855-5007b833ebf9",
   "metadata": {},
   "source": [
    "## Papers"
   ]
  },
  {
   "cell_type": "code",
   "execution_count": 25,
   "id": "fdc222ff-8a5b-4d5c-8c89-43f95334aa37",
   "metadata": {},
   "outputs": [
    {
     "data": {
      "text/html": [
       "<div><style>\n",
       ".dataframe > thead > tr,\n",
       ".dataframe > tbody > tr {\n",
       "  text-align: right;\n",
       "  white-space: pre-wrap;\n",
       "}\n",
       "</style>\n",
       "<small>shape: (5, 69)</small><table border=\"1\" class=\"dataframe\"><thead><tr><th>Id</th><th>Author</th><th>Subject</th><th>Publication</th><th>Volume</th><th>Year</th><th>Others</th><th>Others_1</th><th>Others_2</th><th>Others_3</th><th>Abstract</th><th>Keywords</th><th>nbkw</th><th>KW1</th><th>KW2</th><th>KW3</th><th>KW4</th><th>KW5</th><th>KW6</th><th>KW7</th><th>KW8</th><th>KW9</th><th>KW10</th><th>KW11</th><th>KW12</th><th>KW13</th><th>KW14</th><th>KW15</th><th>KW16</th><th>KW17</th><th>KW18</th><th>KW19</th><th>KW20</th><th>KW21</th><th>KW22</th><th>KW23</th><th>KW24</th><th>KW25</th><th>KW26</th><th>KW27</th><th>KW28</th><th>KW29</th><th>KW30</th><th>KW31</th><th>KW32</th><th>KW33</th><th>KW34</th><th>KW35</th><th>KW36</th><th>KW37</th><th>KW38</th><th>KW39</th><th>KW40</th><th>KW41</th><th>KW42</th><th>KW43</th><th>KW44</th><th>KW45</th><th>KW46</th><th>KW47</th><th>KW48</th><th>KW49</th><th>KW50</th><th>KW51</th><th>KW52</th><th>KW53</th><th>KW54</th><th>KW55</th><th>KW56</th></tr><tr><td>i64</td><td>str</td><td>str</td><td>str</td><td>str</td><td>u16</td><td>str</td><td>str</td><td>str</td><td>str</td><td>str</td><td>list[cat]</td><td>i64</td><td>str</td><td>str</td><td>str</td><td>str</td><td>str</td><td>str</td><td>str</td><td>str</td><td>str</td><td>str</td><td>str</td><td>str</td><td>str</td><td>str</td><td>str</td><td>str</td><td>str</td><td>str</td><td>str</td><td>str</td><td>str</td><td>null</td><td>null</td><td>null</td><td>null</td><td>null</td><td>null</td><td>null</td><td>null</td><td>null</td><td>null</td><td>null</td><td>null</td><td>null</td><td>null</td><td>null</td><td>null</td><td>null</td><td>null</td><td>null</td><td>null</td><td>null</td><td>null</td><td>null</td><td>null</td><td>null</td><td>null</td><td>null</td><td>null</td><td>null</td><td>null</td><td>null</td><td>null</td><td>null</td><td>null</td><td>null</td></tr></thead><tbody><tr><td>1</td><td>&quot;Lu Huang, Hongfeng Zhang, Hong…</td><td>&quot;Can the digital economy promot…</td><td>&quot;Ecological Indicators&quot;</td><td>&quot;Volume 155,&quot;</td><td>2023</td><td>&quot;110977,&quot;</td><td>&quot;ISSN 1470-160X,&quot;</td><td>&quot;https://doi.org/10.1016/j.ecol…</td><td>&quot;(https://www.sciencedirect.com…</td><td>&quot;Abstract: The development of t…</td><td>[&quot;green economic efficiency (gee)&quot;, &quot;digital economy&quot;, … &quot;china&quot;]</td><td>6</td><td>&quot;Green economic efficiency (GEE…</td><td>&quot;Digital economy&quot;</td><td>&quot;Super-efficient SBM&quot;</td><td>&quot;Transmission mechanism&quot;</td><td>&quot;Urban level&quot;</td><td>&quot;China&quot;</td><td>&quot;&quot;</td><td>&quot;&quot;</td><td>&quot;&quot;</td><td>&quot;&quot;</td><td>&quot;&quot;</td><td>&quot;&quot;</td><td>&quot;&quot;</td><td>&quot;&quot;</td><td>&quot;&quot;</td><td>&quot;&quot;</td><td>&quot;&quot;</td><td>&quot;&quot;</td><td>&quot;&quot;</td><td>&quot;&quot;</td><td>&quot;&quot;</td><td>null</td><td>null</td><td>null</td><td>null</td><td>null</td><td>null</td><td>null</td><td>null</td><td>null</td><td>null</td><td>null</td><td>null</td><td>null</td><td>null</td><td>null</td><td>null</td><td>null</td><td>null</td><td>null</td><td>null</td><td>null</td><td>null</td><td>null</td><td>null</td><td>null</td><td>null</td><td>null</td><td>null</td><td>null</td><td>null</td><td>null</td><td>null</td><td>null</td><td>null</td><td>null</td></tr><tr><td>2</td><td>&quot;Zhou Zou, Munir Ahmad,&quot;</td><td>&quot;Economic digitalization and en…</td><td>&quot;Ecological Informatics&quot;</td><td>&quot;Volume 78,&quot;</td><td>2023</td><td>&quot;102323,&quot;</td><td>&quot;ISSN 1574-9541,&quot;</td><td>&quot;https://doi.org/10.1016/j.ecoi…</td><td>&quot;(https://www.sciencedirect.com…</td><td>&quot;Abstract: This study explores …</td><td>[&quot;economic digitalization&quot;, &quot;energy transition&quot;, … &quot;g7 countries&quot;]</td><td>6</td><td>&quot;Economic digitalization&quot;</td><td>&quot;Energy transition&quot;</td><td>&quot;Green industrial development&quot;</td><td>&quot;Carbon productivity&quot;</td><td>&quot;Sustainable development&quot;</td><td>&quot;G7 countries&quot;</td><td>&quot;&quot;</td><td>&quot;&quot;</td><td>&quot;&quot;</td><td>&quot;&quot;</td><td>&quot;&quot;</td><td>&quot;&quot;</td><td>&quot;&quot;</td><td>&quot;&quot;</td><td>&quot;&quot;</td><td>&quot;&quot;</td><td>&quot;&quot;</td><td>&quot;&quot;</td><td>&quot;&quot;</td><td>&quot;&quot;</td><td>&quot;&quot;</td><td>null</td><td>null</td><td>null</td><td>null</td><td>null</td><td>null</td><td>null</td><td>null</td><td>null</td><td>null</td><td>null</td><td>null</td><td>null</td><td>null</td><td>null</td><td>null</td><td>null</td><td>null</td><td>null</td><td>null</td><td>null</td><td>null</td><td>null</td><td>null</td><td>null</td><td>null</td><td>null</td><td>null</td><td>null</td><td>null</td><td>null</td><td>null</td><td>null</td><td>null</td><td>null</td></tr><tr><td>3</td><td>&quot;Satu Paiho, Nina Wessberg, Mar…</td><td>&quot;Twin transition in the built e…</td><td>&quot;Sustainable Cities and Society&quot;</td><td>&quot;Volume 98,&quot;</td><td>2023</td><td>&quot;104870,&quot;</td><td>&quot;ISSN 2210-6707,&quot;</td><td>&quot;https://doi.org/10.1016/j.scs.…</td><td>&quot;(https://www.sciencedirect.com…</td><td>&quot;Abstract: This paper studies t…</td><td>[&quot;buildings&quot;, &quot;green and digital transition&quot;, … &quot;markets&quot;]</td><td>5</td><td>&quot;Buildings&quot;</td><td>&quot;Green and digital transition&quot;</td><td>&quot;Regulations&quot;</td><td>&quot;Technologies&quot;</td><td>&quot;Markets&quot;</td><td>&quot;&quot;</td><td>&quot;&quot;</td><td>&quot;&quot;</td><td>&quot;&quot;</td><td>&quot;&quot;</td><td>&quot;&quot;</td><td>&quot;&quot;</td><td>&quot;&quot;</td><td>&quot;&quot;</td><td>&quot;&quot;</td><td>&quot;&quot;</td><td>&quot;&quot;</td><td>&quot;&quot;</td><td>&quot;&quot;</td><td>&quot;&quot;</td><td>&quot;&quot;</td><td>null</td><td>null</td><td>null</td><td>null</td><td>null</td><td>null</td><td>null</td><td>null</td><td>null</td><td>null</td><td>null</td><td>null</td><td>null</td><td>null</td><td>null</td><td>null</td><td>null</td><td>null</td><td>null</td><td>null</td><td>null</td><td>null</td><td>null</td><td>null</td><td>null</td><td>null</td><td>null</td><td>null</td><td>null</td><td>null</td><td>null</td><td>null</td><td>null</td><td>null</td><td>null</td></tr><tr><td>4</td><td>&quot;Awadesh Kumar Mallik,&quot;</td><td>&quot;The future of the technology-b…</td><td>&quot;Results in Engineering&quot;</td><td>&quot;Volume 19,&quot;</td><td>2023</td><td>&quot;101356,&quot;</td><td>&quot;ISSN 2590-1230,&quot;</td><td>&quot;https://doi.org/10.1016/j.rine…</td><td>&quot;(https://www.sciencedirect.com…</td><td>&quot;Abstract: The manufacturing in…</td><td>[&quot;manufacturing&quot;, &quot;eu&quot;, … &quot;management&quot;]</td><td>5</td><td>&quot;Manufacturing&quot;</td><td>&quot;EU&quot;</td><td>&quot;Carbon-neutrality&quot;</td><td>&quot;Digitalization&quot;</td><td>&quot;Management&quot;</td><td>&quot;&quot;</td><td>&quot;&quot;</td><td>&quot;&quot;</td><td>&quot;&quot;</td><td>&quot;&quot;</td><td>&quot;&quot;</td><td>&quot;&quot;</td><td>&quot;&quot;</td><td>&quot;&quot;</td><td>&quot;&quot;</td><td>&quot;&quot;</td><td>&quot;&quot;</td><td>&quot;&quot;</td><td>&quot;&quot;</td><td>&quot;&quot;</td><td>&quot;&quot;</td><td>null</td><td>null</td><td>null</td><td>null</td><td>null</td><td>null</td><td>null</td><td>null</td><td>null</td><td>null</td><td>null</td><td>null</td><td>null</td><td>null</td><td>null</td><td>null</td><td>null</td><td>null</td><td>null</td><td>null</td><td>null</td><td>null</td><td>null</td><td>null</td><td>null</td><td>null</td><td>null</td><td>null</td><td>null</td><td>null</td><td>null</td><td>null</td><td>null</td><td>null</td><td>null</td></tr><tr><td>5</td><td>&quot;Naomi A. Ubina, Hsun-Yu Lan, S…</td><td>&quot;Digital twin-based intelligent…</td><td>&quot;Smart Agricultural Technology&quot;</td><td>&quot;Volume 5,&quot;</td><td>2023</td><td>&quot;100285,&quot;</td><td>&quot;ISSN 2772-3755,&quot;</td><td>&quot;https://doi.org/10.1016/j.atec…</td><td>&quot;(https://www.sciencedirect.com…</td><td>&quot;Abstract: This paper focuses o…</td><td>[&quot;big data&quot;, &quot;big data analytics&quot;, … &quot;aiot system&quot;]</td><td>5</td><td>&quot;Big data&quot;</td><td>&quot;Big data analytics&quot;</td><td>&quot;Digital twins&quot;</td><td>&quot;Smart aquaculture&quot;</td><td>&quot;AIoT system&quot;</td><td>&quot;&quot;</td><td>&quot;&quot;</td><td>&quot;&quot;</td><td>&quot;&quot;</td><td>&quot;&quot;</td><td>&quot;&quot;</td><td>&quot;&quot;</td><td>&quot;&quot;</td><td>&quot;&quot;</td><td>&quot;&quot;</td><td>&quot;&quot;</td><td>&quot;&quot;</td><td>&quot;&quot;</td><td>&quot;&quot;</td><td>&quot;&quot;</td><td>&quot;&quot;</td><td>null</td><td>null</td><td>null</td><td>null</td><td>null</td><td>null</td><td>null</td><td>null</td><td>null</td><td>null</td><td>null</td><td>null</td><td>null</td><td>null</td><td>null</td><td>null</td><td>null</td><td>null</td><td>null</td><td>null</td><td>null</td><td>null</td><td>null</td><td>null</td><td>null</td><td>null</td><td>null</td><td>null</td><td>null</td><td>null</td><td>null</td><td>null</td><td>null</td><td>null</td><td>null</td></tr></tbody></table></div>"
      ],
      "text/plain": [
       "shape: (5, 69)\n",
       "┌─────┬──────────────────────┬──────────────────────┬──────────────┬───┬──────┬──────┬──────┬──────┐\n",
       "│ Id  ┆ Author               ┆ Subject              ┆ Publication  ┆ … ┆ KW53 ┆ KW54 ┆ KW55 ┆ KW56 │\n",
       "│ --- ┆ ---                  ┆ ---                  ┆ ---          ┆   ┆ ---  ┆ ---  ┆ ---  ┆ ---  │\n",
       "│ i64 ┆ str                  ┆ str                  ┆ str          ┆   ┆ null ┆ null ┆ null ┆ null │\n",
       "╞═════╪══════════════════════╪══════════════════════╪══════════════╪═══╪══════╪══════╪══════╪══════╡\n",
       "│ 1   ┆ Lu Huang, Hongfeng   ┆ Can the digital      ┆ Ecological   ┆ … ┆ null ┆ null ┆ null ┆ null │\n",
       "│     ┆ Zhang, Hong…         ┆ economy promot…      ┆ Indicators   ┆   ┆      ┆      ┆      ┆      │\n",
       "│ 2   ┆ Zhou Zou, Munir      ┆ Economic             ┆ Ecological   ┆ … ┆ null ┆ null ┆ null ┆ null │\n",
       "│     ┆ Ahmad,               ┆ digitalization and   ┆ Informatics  ┆   ┆      ┆      ┆      ┆      │\n",
       "│     ┆                      ┆ en…                  ┆              ┆   ┆      ┆      ┆      ┆      │\n",
       "│ 3   ┆ Satu Paiho, Nina     ┆ Twin transition in   ┆ Sustainable  ┆ … ┆ null ┆ null ┆ null ┆ null │\n",
       "│     ┆ Wessberg, Mar…       ┆ the built e…         ┆ Cities and   ┆   ┆      ┆      ┆      ┆      │\n",
       "│     ┆                      ┆                      ┆ Society      ┆   ┆      ┆      ┆      ┆      │\n",
       "│ 4   ┆ Awadesh Kumar        ┆ The future of the    ┆ Results in   ┆ … ┆ null ┆ null ┆ null ┆ null │\n",
       "│     ┆ Mallik,              ┆ technology-b…        ┆ Engineering  ┆   ┆      ┆      ┆      ┆      │\n",
       "│ 5   ┆ Naomi A. Ubina,      ┆ Digital twin-based   ┆ Smart        ┆ … ┆ null ┆ null ┆ null ┆ null │\n",
       "│     ┆ Hsun-Yu Lan, S…      ┆ intelligent…         ┆ Agricultural ┆   ┆      ┆      ┆      ┆      │\n",
       "│     ┆                      ┆                      ┆ Technology   ┆   ┆      ┆      ┆      ┆      │\n",
       "└─────┴──────────────────────┴──────────────────────┴──────────────┴───┴──────┴──────┴──────┴──────┘"
      ]
     },
     "execution_count": 25,
     "metadata": {},
     "output_type": "execute_result"
    }
   ],
   "source": [
    "def get_papers() -> pl.DataFrame:\n",
    "    papers = pl.read_excel(\n",
    "        bim_dataset_path,\n",
    "        sheet_name=\"Papers\",\n",
    "        engine=\"calamine\",\n",
    "        schema_overrides={\"Year\": pl.UInt16 },\n",
    "    ).rename({\"__UNNAMED__0\": \"Id\"})\n",
    "    nb_end_cols_to_drop = 12\n",
    "    to_drop = papers.columns[-nb_end_cols_to_drop:]\n",
    "    #print(f\"These columns will be dropped : {\", \".join(to_drop)}.\")\n",
    "    papers = papers.drop(to_drop)\n",
    "    with pl.StringCache():\n",
    "        papers = papers.with_columns(\n",
    "                pl.col(\"Keywords\").str.split(\";\").list.eval(pl.element().str.strip_chars().str.to_lowercase()).cast(pl.List(pl.Categorical))\n",
    "                )\n",
    "    return papers\n",
    "papers = get_papers()\n",
    "papers.write_parquet(df(\"papers\"))\n",
    "papers.head()"
   ]
  },
  {
   "cell_type": "markdown",
   "id": "6a43918f-5081-49ef-a4c7-d6bc4cdc955f",
   "metadata": {},
   "source": [
    "## Keyword pairs"
   ]
  },
  {
   "cell_type": "code",
   "execution_count": 39,
   "id": "2e7cb82d-c2f3-43b3-8e8f-72353f214f9f",
   "metadata": {},
   "outputs": [
    {
     "data": {
      "text/html": [
       "<div><style>\n",
       ".dataframe > thead > tr,\n",
       ".dataframe > tbody > tr {\n",
       "  text-align: right;\n",
       "  white-space: pre-wrap;\n",
       "}\n",
       "</style>\n",
       "<small>shape: (10_476, 2)</small><table border=\"1\" class=\"dataframe\"><thead><tr><th>paper_id</th><th>KW_pairs</th></tr><tr><td>i64</td><td>list[cat]</td></tr></thead><tbody><tr><td>1</td><td>[&quot;green economic efficiency (gee)&quot;, &quot;digital economy&quot;]</td></tr><tr><td>1</td><td>[&quot;green economic efficiency (gee)&quot;, &quot;super-efficient sbm&quot;]</td></tr><tr><td>1</td><td>[&quot;green economic efficiency (gee)&quot;, &quot;transmission mechanism&quot;]</td></tr><tr><td>1</td><td>[&quot;green economic efficiency (gee)&quot;, &quot;urban level&quot;]</td></tr><tr><td>1</td><td>[&quot;green economic efficiency (gee)&quot;, &quot;china&quot;]</td></tr><tr><td>&hellip;</td><td>&hellip;</td></tr><tr><td>543</td><td>[&quot;education&quot;, &quot;constructionism&quot;]</td></tr><tr><td>543</td><td>[&quot;physical computing&quot;, &quot;constructionism&quot;]</td></tr><tr><td>543</td><td>[&quot;education&quot;, &quot;bildung&quot;]</td></tr><tr><td>543</td><td>[&quot;physical computing&quot;, &quot;bildung&quot;]</td></tr><tr><td>543</td><td>[&quot;education&quot;, &quot;physical computing&quot;]</td></tr></tbody></table></div>"
      ],
      "text/plain": [
       "shape: (10_476, 2)\n",
       "┌──────────┬─────────────────────────────────┐\n",
       "│ paper_id ┆ KW_pairs                        │\n",
       "│ ---      ┆ ---                             │\n",
       "│ i64      ┆ list[cat]                       │\n",
       "╞══════════╪═════════════════════════════════╡\n",
       "│ 1        ┆ [\"green economic efficiency (g… │\n",
       "│ 1        ┆ [\"green economic efficiency (g… │\n",
       "│ 1        ┆ [\"green economic efficiency (g… │\n",
       "│ 1        ┆ [\"green economic efficiency (g… │\n",
       "│ 1        ┆ [\"green economic efficiency (g… │\n",
       "│ …        ┆ …                               │\n",
       "│ 543      ┆ [\"education\", \"constructionism… │\n",
       "│ 543      ┆ [\"physical computing\", \"constr… │\n",
       "│ 543      ┆ [\"education\", \"bildung\"]        │\n",
       "│ 543      ┆ [\"physical computing\", \"bildun… │\n",
       "│ 543      ┆ [\"education\", \"physical comput… │\n",
       "└──────────┴─────────────────────────────────┘"
      ]
     },
     "execution_count": 39,
     "metadata": {},
     "output_type": "execute_result"
    }
   ],
   "source": [
    "c_kw = \"Keywords\"\n",
    "c_kw_pairs = \"KW_pairs\"\n",
    "\n",
    "\n",
    "\n",
    "q = (\n",
    "    pl.scan_parquet(df(\"papers\"))\n",
    "    .filter(~pl.col(c_kw).list.eval(pl.element() == \"_\").list.all())  # remove papers without keywords\n",
    "    .select(\n",
    "        pl.col(\"Id\").alias(\"paper_id\"),\n",
    "        pl.col(c_kw).alias(c_kw_pairs).map_elements(\n",
    "            lambda a: list(map(tuple, combinations(a, 2))),\n",
    "            return_dtype=pl.List(pl.List(pl.String))\n",
    "        ).cast(pl.List(pl.List(pl.Categorical)))\n",
    "        # .cast(pl.List(pl.Array(pl.String, 2)))  # can't convert to array because value counts isn't supported yet\n",
    "        # .list.explode()\n",
    "        # .list.sort()\n",
    "        # .value_counts()\n",
    "    )\n",
    "    .explode(c_kw_pairs)\n",
    "    .with_columns(\n",
    "        pl.col(c_kw_pairs)\n",
    "        # .cast(pl.List(pl.Array(pl.String, 2)))  # can't convert to array because value counts isn't supported yet\n",
    "        .list.sort()\n",
    "        # .value_counts()\n",
    "    ).group_by\n",
    "    # .unnest(\"KW_pairs\")\n",
    "    # .sort(\"count\", descending=True)\n",
    "    # .with_columns(\n",
    "    #     pl.col(\"count\")\n",
    "    #     .sub(1)\n",
    "    #     .truediv(pl.col(\"count\").max().sub(1))\n",
    "    #     .alias(\"color\")\n",
    "    # )\n",
    ")\n",
    "\n",
    "# q.show_graph(optimized=False)\n",
    "# q.show_graph(optimized=True)\n",
    "with pl.StringCache():\n",
    "    res = q.collect()\n",
    "res.write_parquet(df(\"kw_pairs\"))\n",
    "res"
   ]
  },
  {
   "cell_type": "markdown",
   "id": "9d7125bf-46c0-4861-9991-ea739dfd2686",
   "metadata": {},
   "source": [
    "## Keywords"
   ]
  },
  {
   "cell_type": "code",
   "execution_count": 369,
   "id": "6233c665-5d75-4dfe-a5de-8e984d451613",
   "metadata": {},
   "outputs": [
    {
     "data": {
      "text/html": [
       "<div><style>\n",
       ".dataframe > thead > tr,\n",
       ".dataframe > tbody > tr {\n",
       "  text-align: right;\n",
       "  white-space: pre-wrap;\n",
       "}\n",
       "</style>\n",
       "<small>shape: (2_284, 2)</small><table border=\"1\" class=\"dataframe\"><thead><tr><th>Keyword</th><th>Count</th></tr><tr><td>str</td><td>i64</td></tr></thead><tbody><tr><td>&quot;sustainability&quot;</td><td>67</td></tr><tr><td>&quot;smart city&quot;</td><td>37</td></tr><tr><td>&quot;digitalization&quot;</td><td>29</td></tr><tr><td>&quot;smart cities&quot;</td><td>25</td></tr><tr><td>&quot;internet of things&quot;</td><td>25</td></tr><tr><td>&hellip;</td><td>&hellip;</td></tr><tr><td>&quot;knowledge&quot;</td><td>1</td></tr><tr><td>&quot;hvac control&quot;</td><td>1</td></tr><tr><td>&quot;e-tools&quot;</td><td>1</td></tr><tr><td>&quot;urban future&quot;</td><td>1</td></tr><tr><td>&quot;rural communications&quot;</td><td>1</td></tr></tbody></table></div>"
      ],
      "text/plain": [
       "shape: (2_284, 2)\n",
       "┌──────────────────────┬───────┐\n",
       "│ Keyword              ┆ Count │\n",
       "│ ---                  ┆ ---   │\n",
       "│ str                  ┆ i64   │\n",
       "╞══════════════════════╪═══════╡\n",
       "│ sustainability       ┆ 67    │\n",
       "│ smart city           ┆ 37    │\n",
       "│ digitalization       ┆ 29    │\n",
       "│ smart cities         ┆ 25    │\n",
       "│ internet of things   ┆ 25    │\n",
       "│ …                    ┆ …     │\n",
       "│ knowledge            ┆ 1     │\n",
       "│ hvac control         ┆ 1     │\n",
       "│ e-tools              ┆ 1     │\n",
       "│ urban future         ┆ 1     │\n",
       "│ rural communications ┆ 1     │\n",
       "└──────────────────────┴───────┘"
      ]
     },
     "execution_count": 369,
     "metadata": {},
     "output_type": "execute_result"
    }
   ],
   "source": [
    "pl.read_excel(\"bim_dataset.xlsx\", sheet_name=\"Keywords_Counts\").select(pl.col(\"Keyword\").str.to_lowercase(), \"Count\").unique(\"Keyword\").sort(\"Count\", descending=True)"
   ]
  },
  {
   "cell_type": "code",
   "execution_count": 522,
   "id": "e0b326b4-a4b7-4adf-a8cb-41482c3f7908",
   "metadata": {},
   "outputs": [
    {
     "data": {
      "text/html": [
       "<div><style>\n",
       ".dataframe > thead > tr,\n",
       ".dataframe > tbody > tr {\n",
       "  text-align: right;\n",
       "  white-space: pre-wrap;\n",
       "}\n",
       "</style>\n",
       "<small>shape: (2_284, 2)</small><table border=\"1\" class=\"dataframe\"><thead><tr><th>keyword</th><th>count</th></tr><tr><td>str</td><td>u32</td></tr></thead><tbody><tr><td>&quot;sustainability&quot;</td><td>67</td></tr><tr><td>&quot;smart city&quot;</td><td>37</td></tr><tr><td>&quot;digitalization&quot;</td><td>29</td></tr><tr><td>&quot;internet of things&quot;</td><td>25</td></tr><tr><td>&quot;smart cities&quot;</td><td>25</td></tr><tr><td>&hellip;</td><td>&hellip;</td></tr><tr><td>&quot;natural resource saving effect…</td><td>1</td></tr><tr><td>&quot;management workflow&quot;</td><td>1</td></tr><tr><td>&quot;dual-pilot&quot;</td><td>1</td></tr><tr><td>&quot;biocomposite materials&quot;</td><td>1</td></tr><tr><td>&quot;cultural values&quot;</td><td>1</td></tr></tbody></table></div>"
      ],
      "text/plain": [
       "shape: (2_284, 2)\n",
       "┌─────────────────────────────────┬───────┐\n",
       "│ keyword                         ┆ count │\n",
       "│ ---                             ┆ ---   │\n",
       "│ str                             ┆ u32   │\n",
       "╞═════════════════════════════════╪═══════╡\n",
       "│ sustainability                  ┆ 67    │\n",
       "│ smart city                      ┆ 37    │\n",
       "│ digitalization                  ┆ 29    │\n",
       "│ internet of things              ┆ 25    │\n",
       "│ smart cities                    ┆ 25    │\n",
       "│ …                               ┆ …     │\n",
       "│ natural resource saving effect… ┆ 1     │\n",
       "│ management workflow             ┆ 1     │\n",
       "│ dual-pilot                      ┆ 1     │\n",
       "│ biocomposite materials          ┆ 1     │\n",
       "│ cultural values                 ┆ 1     │\n",
       "└─────────────────────────────────┴───────┘"
      ]
     },
     "execution_count": 522,
     "metadata": {},
     "output_type": "execute_result"
    }
   ],
   "source": [
    "keywords = (\n",
    "pl.scan_parquet(df(\"papers\"))\n",
    "    .select(pl.col(\"Keywords\").alias(\"keyword\").list.explode().value_counts())\n",
    "    .unnest(\"keyword\")\n",
    "    .filter(pl.col(\"keyword\").struct.field(\"keyword\") != \"_\")  # removes rows without keywords\n",
    "    .sort(\"count\", descending=True)\n",
    ").collect()\n",
    "keywords.write_parquet(df(\"keywords\"))\n",
    "keywords"
   ]
  },
  {
   "cell_type": "code",
   "execution_count": 524,
   "id": "c6d67d08-acae-4e92-8d91-7193b9db1efb",
   "metadata": {},
   "outputs": [],
   "source": [
    "from graph_tool.all import Graph, graph_draw, GraphView\n",
    "\n",
    "g = Graph(directed=False)\n",
    "\n",
    "kw_pairs = pl.read_parquet(df(\"kw_pairs\"))\n",
    "keywords = pl.read_parquet(df(\"keywords\"))\n",
    "\n",
    "# kw_pairs_min_max = (\n",
    "#     kw_pairs.lazy()\n",
    "#     .select(\n",
    "#         pl.col(\"count\").alias(\"min\").min(),\n",
    "#         pl.col(\"count\").alias(\"max\").max(),\n",
    "#     )\n",
    "# ).collect()\n",
    "# kw_pairs_min_max[\"max\"][0]\n",
    "g = Graph(directed=False)\n",
    "v_text = g.add_edge_list(kw_pairs.get_column(\"KW_pairs\"), hashed=True, hash_type=\"string\")\n",
    "vmapping = {v_text[i]: i for i in range(g.num_vertices())}"
   ]
  },
  {
   "cell_type": "code",
   "execution_count": 517,
   "id": "7795d214-f633-414a-8fab-301b6857e0ca",
   "metadata": {},
   "outputs": [],
   "source": [
    "g.vp[\"names\"] = v_text"
   ]
  },
  {
   "cell_type": "code",
   "execution_count": 512,
   "id": "0f98956f-77ab-45fb-aa50-5fe84c06c9d5",
   "metadata": {},
   "outputs": [
    {
     "data": {
      "text/plain": [
       "(<VertexPropertyMap object with value type 'vector<double>', for Graph 0x7f42b356a840, at 0x7f42f832d160>,\n",
       " <VertexPropertyMap object with value type 'bool', for Graph 0x7f42b356a840, at 0x7f431ad15d30>)"
      ]
     },
     "execution_count": 512,
     "metadata": {},
     "output_type": "execute_result"
    }
   ],
   "source": [
    "gv = GraphView(g, vfilt=lambda i: i < 100)\n",
    "graph_draw(\n",
    "    gv,\n",
    "    inline=False,\n",
    "    vertex_text=v_text,\n",
    "    vertex_text_position=0,\n",
    "    vertex_text_color=\"black\"\n",
    "    # output=\"kw_pairs.pdf\"\n",
    ")\n",
    "# str(g.vertex(0))"
   ]
  },
  {
   "cell_type": "code",
   "execution_count": 518,
   "id": "0c332f81-b26d-4a9a-b244-968f8e50e4f1",
   "metadata": {},
   "outputs": [],
   "source": [
    "g.save(\"keywords_pairs.graphml\")"
   ]
  }
 ],
 "metadata": {
  "kernelspec": {
   "display_name": "Python 3 (ipykernel)",
   "language": "python",
   "name": "python3"
  },
  "language_info": {
   "codemirror_mode": {
    "name": "ipython",
    "version": 3
   },
   "file_extension": ".py",
   "mimetype": "text/x-python",
   "name": "python",
   "nbconvert_exporter": "python",
   "pygments_lexer": "ipython3",
   "version": "3.12.2"
  }
 },
 "nbformat": 4,
 "nbformat_minor": 5
}
