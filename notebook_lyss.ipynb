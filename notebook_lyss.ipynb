{
 "cells": [
  {
   "cell_type": "code",
   "execution_count": 194,
   "id": "87838e34-9e32-4212-bd45-5591c661656b",
   "metadata": {},
   "outputs": [],
   "source": [
    "import polars as pl\n",
    "import importlib\n",
    "import numpy as np\n",
    "import lyss\n",
    "importlib.reload(lyss)\n",
    "from lyss import get_papers, get_keywords_cooccurrences\n",
    "from itertools import combinations"
   ]
  },
  {
   "cell_type": "code",
   "execution_count": 274,
   "id": "8ab7057a-bcef-425e-9f7d-1e4b3f53f651",
   "metadata": {},
   "outputs": [],
   "source": [
    "import os\n",
    "def df(name: str) -> str:\n",
    "    return os.path.join(\"dataframes\", name) "
   ]
  },
  {
   "cell_type": "code",
   "execution_count": 275,
   "id": "fdc222ff-8a5b-4d5c-8c89-43f95334aa37",
   "metadata": {},
   "outputs": [],
   "source": [
    "get_papers().write_parquet(df(\"papers\"))"
   ]
  },
  {
   "cell_type": "markdown",
   "id": "6a43918f-5081-49ef-a4c7-d6bc4cdc955f",
   "metadata": {},
   "source": [
    "## Keyword pairs"
   ]
  },
  {
   "cell_type": "code",
   "execution_count": 360,
   "id": "2e7cb82d-c2f3-43b3-8e8f-72353f214f9f",
   "metadata": {},
   "outputs": [
    {
     "data": {
      "text/html": [
       "<div><style>\n",
       ".dataframe > thead > tr,\n",
       ".dataframe > tbody > tr {\n",
       "  text-align: right;\n",
       "  white-space: pre-wrap;\n",
       "}\n",
       "</style>\n",
       "<small>shape: (10_195, 3)</small><table border=\"1\" class=\"dataframe\"><thead><tr><th>KW_pairs</th><th>count</th><th>color</th></tr><tr><td>list[str]</td><td>u32</td><td>f64</td></tr></thead><tbody><tr><td>[&quot;digitalization&quot;, &quot;sustainability&quot;]</td><td>8</td><td>1.0</td></tr><tr><td>[&quot;industry 4.0&quot;, &quot;sustainability&quot;]</td><td>7</td><td>0.857143</td></tr><tr><td>[&quot;blockchain&quot;, &quot;sustainability&quot;]</td><td>7</td><td>0.857143</td></tr><tr><td>[&quot;innovation&quot;, &quot;sustainability&quot;]</td><td>6</td><td>0.714286</td></tr><tr><td>[&quot;smart city&quot;, &quot;sustainability&quot;]</td><td>6</td><td>0.714286</td></tr><tr><td>&hellip;</td><td>&hellip;</td><td>&hellip;</td></tr><tr><td>[&quot;qualifications&quot;, &quot;work architectures&quot;]</td><td>1</td><td>0.0</td></tr><tr><td>[&quot;dynamic transit bus&quot;, &quot;vehicle routing problem&quot;]</td><td>1</td><td>0.0</td></tr><tr><td>[&quot;agricultural terraces&quot;, &quot;very high resolution images&quot;]</td><td>1</td><td>0.0</td></tr><tr><td>[&quot;new urbanism&quot;, &quot;smart city&quot;]</td><td>1</td><td>0.0</td></tr><tr><td>[&quot;rfid&quot;, &quot;theft&quot;]</td><td>1</td><td>0.0</td></tr></tbody></table></div>"
      ],
      "text/plain": [
       "shape: (10_195, 3)\n",
       "┌─────────────────────────────────┬───────┬──────────┐\n",
       "│ KW_pairs                        ┆ count ┆ color    │\n",
       "│ ---                             ┆ ---   ┆ ---      │\n",
       "│ list[str]                       ┆ u32   ┆ f64      │\n",
       "╞═════════════════════════════════╪═══════╪══════════╡\n",
       "│ [\"digitalization\", \"sustainabi… ┆ 8     ┆ 1.0      │\n",
       "│ [\"industry 4.0\", \"sustainabili… ┆ 7     ┆ 0.857143 │\n",
       "│ [\"blockchain\", \"sustainability… ┆ 7     ┆ 0.857143 │\n",
       "│ [\"innovation\", \"sustainability… ┆ 6     ┆ 0.714286 │\n",
       "│ [\"smart city\", \"sustainability… ┆ 6     ┆ 0.714286 │\n",
       "│ …                               ┆ …     ┆ …        │\n",
       "│ [\"qualifications\", \"work archi… ┆ 1     ┆ 0.0      │\n",
       "│ [\"dynamic transit bus\", \"vehic… ┆ 1     ┆ 0.0      │\n",
       "│ [\"agricultural terraces\", \"ver… ┆ 1     ┆ 0.0      │\n",
       "│ [\"new urbanism\", \"smart city\"]  ┆ 1     ┆ 0.0      │\n",
       "│ [\"rfid\", \"theft\"]               ┆ 1     ┆ 0.0      │\n",
       "└─────────────────────────────────┴───────┴──────────┘"
      ]
     },
     "execution_count": 360,
     "metadata": {},
     "output_type": "execute_result"
    }
   ],
   "source": [
    "c_kw = \"Keywords\"\n",
    "c_kw_pairs = \"KW_pairs\"\n",
    "\n",
    "\n",
    "\n",
    "q = (\n",
    "    pl.scan_parquet(df(\"papers\"))\n",
    "    .filter(~pl.col(c_kw).list.eval(pl.element() == \"_\").list.all())  # remove papers without keywords\n",
    "    .select(\n",
    "        pl.col(c_kw).alias(c_kw_pairs).map_elements(\n",
    "            lambda a: list(map(tuple, combinations(a, 2))),\n",
    "            return_dtype=pl.List(pl.List(pl.String))\n",
    "        )\n",
    "        # .cast(pl.List(pl.Array(pl.String, 2)))  # can't convert to array because value counts isn't supported yet\n",
    "        .list.explode()\n",
    "        .list.sort()\n",
    "        .value_counts()\n",
    "    )\n",
    "    .unnest(\"KW_pairs\")\n",
    "    .sort(\"count\", descending=True)\n",
    "    .with_columns(\n",
    "        pl.col(\"count\")\n",
    "        .sub(1)\n",
    "        .truediv(pl.col(\"count\").max().sub(1))\n",
    "        .alias(\"color\")\n",
    "    )\n",
    ")\n",
    "\n",
    "# q.show_graph(optimized=False)\n",
    "# q.show_graph(optimized=True)\n",
    "res = q.collect()\n",
    "res.write_parquet(df(\"kw_pairs\"))\n",
    "res"
   ]
  },
  {
   "cell_type": "markdown",
   "id": "9d7125bf-46c0-4861-9991-ea739dfd2686",
   "metadata": {},
   "source": [
    "## Keywords"
   ]
  },
  {
   "cell_type": "code",
   "execution_count": 369,
   "id": "6233c665-5d75-4dfe-a5de-8e984d451613",
   "metadata": {},
   "outputs": [
    {
     "data": {
      "text/html": [
       "<div><style>\n",
       ".dataframe > thead > tr,\n",
       ".dataframe > tbody > tr {\n",
       "  text-align: right;\n",
       "  white-space: pre-wrap;\n",
       "}\n",
       "</style>\n",
       "<small>shape: (2_284, 2)</small><table border=\"1\" class=\"dataframe\"><thead><tr><th>Keyword</th><th>Count</th></tr><tr><td>str</td><td>i64</td></tr></thead><tbody><tr><td>&quot;sustainability&quot;</td><td>67</td></tr><tr><td>&quot;smart city&quot;</td><td>37</td></tr><tr><td>&quot;digitalization&quot;</td><td>29</td></tr><tr><td>&quot;smart cities&quot;</td><td>25</td></tr><tr><td>&quot;internet of things&quot;</td><td>25</td></tr><tr><td>&hellip;</td><td>&hellip;</td></tr><tr><td>&quot;knowledge&quot;</td><td>1</td></tr><tr><td>&quot;hvac control&quot;</td><td>1</td></tr><tr><td>&quot;e-tools&quot;</td><td>1</td></tr><tr><td>&quot;urban future&quot;</td><td>1</td></tr><tr><td>&quot;rural communications&quot;</td><td>1</td></tr></tbody></table></div>"
      ],
      "text/plain": [
       "shape: (2_284, 2)\n",
       "┌──────────────────────┬───────┐\n",
       "│ Keyword              ┆ Count │\n",
       "│ ---                  ┆ ---   │\n",
       "│ str                  ┆ i64   │\n",
       "╞══════════════════════╪═══════╡\n",
       "│ sustainability       ┆ 67    │\n",
       "│ smart city           ┆ 37    │\n",
       "│ digitalization       ┆ 29    │\n",
       "│ smart cities         ┆ 25    │\n",
       "│ internet of things   ┆ 25    │\n",
       "│ …                    ┆ …     │\n",
       "│ knowledge            ┆ 1     │\n",
       "│ hvac control         ┆ 1     │\n",
       "│ e-tools              ┆ 1     │\n",
       "│ urban future         ┆ 1     │\n",
       "│ rural communications ┆ 1     │\n",
       "└──────────────────────┴───────┘"
      ]
     },
     "execution_count": 369,
     "metadata": {},
     "output_type": "execute_result"
    }
   ],
   "source": [
    "pl.read_excel(\"bim_dataset.xlsx\", sheet_name=\"Keywords_Counts\").select(pl.col(\"Keyword\").str.to_lowercase(), \"Count\").unique(\"Keyword\").sort(\"Count\", descending=True)"
   ]
  },
  {
   "cell_type": "code",
   "execution_count": 415,
   "id": "e0b326b4-a4b7-4adf-a8cb-41482c3f7908",
   "metadata": {},
   "outputs": [
    {
     "data": {
      "text/html": [
       "<div><style>\n",
       ".dataframe > thead > tr,\n",
       ".dataframe > tbody > tr {\n",
       "  text-align: right;\n",
       "  white-space: pre-wrap;\n",
       "}\n",
       "</style>\n",
       "<small>shape: (2_284, 2)</small><table border=\"1\" class=\"dataframe\"><thead><tr><th>keyword</th><th>count</th></tr><tr><td>str</td><td>u32</td></tr></thead><tbody><tr><td>&quot;sustainability&quot;</td><td>67</td></tr><tr><td>&quot;smart city&quot;</td><td>37</td></tr><tr><td>&quot;digitalization&quot;</td><td>29</td></tr><tr><td>&quot;internet of things&quot;</td><td>25</td></tr><tr><td>&quot;smart cities&quot;</td><td>25</td></tr><tr><td>&hellip;</td><td>&hellip;</td></tr><tr><td>&quot;fishers&#x27; knowledge&quot;</td><td>1</td></tr><tr><td>&quot;citizen-administration relatio…</td><td>1</td></tr><tr><td>&quot;communications technology&quot;</td><td>1</td></tr><tr><td>&quot;long-term effect&quot;</td><td>1</td></tr><tr><td>&quot;social support&quot;</td><td>1</td></tr></tbody></table></div>"
      ],
      "text/plain": [
       "shape: (2_284, 2)\n",
       "┌─────────────────────────────────┬───────┐\n",
       "│ keyword                         ┆ count │\n",
       "│ ---                             ┆ ---   │\n",
       "│ str                             ┆ u32   │\n",
       "╞═════════════════════════════════╪═══════╡\n",
       "│ sustainability                  ┆ 67    │\n",
       "│ smart city                      ┆ 37    │\n",
       "│ digitalization                  ┆ 29    │\n",
       "│ internet of things              ┆ 25    │\n",
       "│ smart cities                    ┆ 25    │\n",
       "│ …                               ┆ …     │\n",
       "│ fishers' knowledge              ┆ 1     │\n",
       "│ citizen-administration relatio… ┆ 1     │\n",
       "│ communications technology       ┆ 1     │\n",
       "│ long-term effect                ┆ 1     │\n",
       "│ social support                  ┆ 1     │\n",
       "└─────────────────────────────────┴───────┘"
      ]
     },
     "execution_count": 415,
     "metadata": {},
     "output_type": "execute_result"
    }
   ],
   "source": [
    "keywords = (\n",
    "pl.scan_parquet(df(\"papers\"))\n",
    "    .select(pl.col(\"Keywords\").alias(\"keyword\").list.explode().value_counts())\n",
    "    .unnest(\"keyword\")\n",
    "    .filter(pl.col(\"keyword\").struct.field(\"keyword\") != \"_\")  # removes rows without keywords\n",
    "    .sort(\"count\", descending=True)\n",
    ").collect()\n",
    "keywords.write_parquet(df(\"keywords\"))\n",
    "keywords"
   ]
  },
  {
   "cell_type": "code",
   "execution_count": 515,
   "id": "c6d67d08-acae-4e92-8d91-7193b9db1efb",
   "metadata": {},
   "outputs": [],
   "source": [
    "from graph_tool.all import Graph, graph_draw, GraphView\n",
    "\n",
    "g = Graph(directed=False)\n",
    "\n",
    "kw_pairs = pl.read_parquet(df(\"kw_pairs\"))\n",
    "keywords = pl.read_parquet(df(\"keywords\"))\n",
    "\n",
    "# kw_pairs_min_max = (\n",
    "#     kw_pairs.lazy()\n",
    "#     .select(\n",
    "#         pl.col(\"count\").alias(\"min\").min(),\n",
    "#         pl.col(\"count\").alias(\"max\").max(),\n",
    "#     )\n",
    "# ).collect()\n",
    "# kw_pairs_min_max[\"max\"][0]\n",
    "g = Graph(directed=False)\n",
    "v_text = g.add_edge_list(kw_pairs.get_column(\"KW_pairs\"), hashed=True, hash_type=\"string\")\n",
    "vmapping = {v_text[i]: i for i in range(g.num_vertices())}"
   ]
  },
  {
   "cell_type": "code",
   "execution_count": 517,
   "id": "7795d214-f633-414a-8fab-301b6857e0ca",
   "metadata": {},
   "outputs": [],
   "source": [
    "g.vp[\"names\"] = v_text"
   ]
  },
  {
   "cell_type": "code",
   "execution_count": 512,
   "id": "0f98956f-77ab-45fb-aa50-5fe84c06c9d5",
   "metadata": {},
   "outputs": [
    {
     "data": {
      "text/plain": [
       "(<VertexPropertyMap object with value type 'vector<double>', for Graph 0x7f42b356a840, at 0x7f42f832d160>,\n",
       " <VertexPropertyMap object with value type 'bool', for Graph 0x7f42b356a840, at 0x7f431ad15d30>)"
      ]
     },
     "execution_count": 512,
     "metadata": {},
     "output_type": "execute_result"
    }
   ],
   "source": [
    "gv = GraphView(g, vfilt=lambda i: i < 100)\n",
    "graph_draw(\n",
    "    gv,\n",
    "    inline=False,\n",
    "    vertex_text=v_text,\n",
    "    vertex_text_position=0,\n",
    "    vertex_text_color=\"black\"\n",
    "    # output=\"kw_pairs.pdf\"\n",
    ")\n",
    "# str(g.vertex(0))"
   ]
  },
  {
   "cell_type": "code",
   "execution_count": 518,
   "id": "0c332f81-b26d-4a9a-b244-968f8e50e4f1",
   "metadata": {},
   "outputs": [],
   "source": [
    "g.save(\"keywords_pairs.graphml\")"
   ]
  }
 ],
 "metadata": {
  "kernelspec": {
   "display_name": "Python 3 (ipykernel)",
   "language": "python",
   "name": "python3"
  },
  "language_info": {
   "codemirror_mode": {
    "name": "ipython",
    "version": 3
   },
   "file_extension": ".py",
   "mimetype": "text/x-python",
   "name": "python",
   "nbconvert_exporter": "python",
   "pygments_lexer": "ipython3",
   "version": "3.12.2"
  }
 },
 "nbformat": 4,
 "nbformat_minor": 5
}
